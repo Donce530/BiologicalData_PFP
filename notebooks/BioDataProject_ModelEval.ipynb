{
 "cells": [
  {
   "cell_type": "code",
   "execution_count": 1,
   "metadata": {},
   "outputs": [
    {
     "name": "stderr",
     "output_type": "stream",
     "text": [
      "/tmp/ipykernel_185692/855242812.py:2: DeprecationWarning: \n",
      "Pyarrow will become a required dependency of pandas in the next major release of pandas (pandas 3.0),\n",
      "(to allow more performant data types, such as the Arrow string type, and better interoperability with other libraries)\n",
      "but was not found to be installed on your system.\n",
      "If this would cause problems for you,\n",
      "please provide us feedback at https://github.com/pandas-dev/pandas/issues/54466\n",
      "        \n",
      "  import pandas as pd\n",
      "2024-02-23 21:27:24.151297: E external/local_xla/xla/stream_executor/cuda/cuda_dnn.cc:9261] Unable to register cuDNN factory: Attempting to register factory for plugin cuDNN when one has already been registered\n",
      "2024-02-23 21:27:24.151388: E external/local_xla/xla/stream_executor/cuda/cuda_fft.cc:607] Unable to register cuFFT factory: Attempting to register factory for plugin cuFFT when one has already been registered\n",
      "2024-02-23 21:27:24.229468: E external/local_xla/xla/stream_executor/cuda/cuda_blas.cc:1515] Unable to register cuBLAS factory: Attempting to register factory for plugin cuBLAS when one has already been registered\n",
      "2024-02-23 21:27:24.261816: I tensorflow/core/platform/cpu_feature_guard.cc:182] This TensorFlow binary is optimized to use available CPU instructions in performance-critical operations.\n",
      "To enable the following instructions: AVX2 FMA, in other operations, rebuild TensorFlow with the appropriate compiler flags.\n",
      "2024-02-23 21:27:32.424733: W tensorflow/compiler/tf2tensorrt/utils/py_utils.cc:38] TF-TRT Warning: Could not find TensorRT\n"
     ]
    }
   ],
   "source": [
    "import os\n",
    "import pandas as pd\n",
    "import numpy as np\n",
    "import tensorflow as tf\n",
    "import yaml\n",
    "from sklearn.metrics import f1_score, accuracy_score\n",
    "import shutil"
   ]
  },
  {
   "cell_type": "code",
   "execution_count": 2,
   "metadata": {},
   "outputs": [],
   "source": [
    "config_path = './config.yaml'\n",
    "with open(config_path, 'r') as file:\n",
    "    config = yaml.safe_load(file)\n",
    "\n",
    "\n",
    "def load_data(data_type):\n",
    "    data_path = f\"{config['directories']['preprocessed_data']}/train_embeddings_{data_type}.pkl\"\n",
    "    label_path = f\"{config['directories']['preprocessed_data']}/train_labels_{data_type}.pkl\"\n",
    "    data_df = pd.read_pickle(data_path)\n",
    "    label_df = pd.read_pickle(label_path)\n",
    "    return data_df, label_df\n",
    "\n",
    "datasets = {category: load_data(category) for category in ['BiologicalProcesses', 'CellularComponent', 'MolecularFunction']}"
   ]
  },
  {
   "cell_type": "code",
   "execution_count": 3,
   "metadata": {},
   "outputs": [],
   "source": [
    "# Assuming parent_path is the parent directory of model_root_path\n",
    "models_path = config[\"directories\"][\"models\"]\n",
    "\n",
    "model_data_map = {\n",
    "    'BiologicalProcesses': 'best_BP_model',\n",
    "    'CellularComponent': 'best_CC_model',\n",
    "    'MolecularFunction': 'best_MF_model'\n",
    "}"
   ]
  },
  {
   "cell_type": "code",
   "execution_count": 4,
   "metadata": {},
   "outputs": [
    {
     "data": {
      "text/plain": [
       "['CNNMod1', 'ResNet1D_BCE', 'FFNNMod1', 'FFNNMod2', 'MLPMod']"
      ]
     },
     "execution_count": 4,
     "metadata": {},
     "output_type": "execute_result"
    }
   ],
   "source": [
    "model_folders = [d for d in os.listdir(models_path) if os.path.isdir(os.path.join(models_path, d))]\n",
    "model_folders"
   ]
  },
  {
   "cell_type": "code",
   "execution_count": 5,
   "metadata": {},
   "outputs": [
    {
     "name": "stdout",
     "output_type": "stream",
     "text": [
      "Evaluating models for BiologicalProcesses:\n",
      "Evaluating CNNMod1...\n"
     ]
    },
    {
     "name": "stderr",
     "output_type": "stream",
     "text": [
      "2024-02-23 21:28:14.261264: I tensorflow/core/common_runtime/gpu/gpu_device.cc:1929] Created device /job:localhost/replica:0/task:0/device:GPU:0 with 79086 MB memory:  -> device: 0, name: NVIDIA A100-SXM4-80GB, pci bus id: 0000:44:00.0, compute capability: 8.0\n",
      "2024-02-23 21:28:18.331753: I external/local_xla/xla/stream_executor/cuda/cuda_dnn.cc:454] Loaded cuDNN version 8904\n"
     ]
    },
    {
     "name": "stdout",
     "output_type": "stream",
     "text": [
      "Model: CNNMod1, Accuracy: 0.969669759273529, F1 Score: 0.4469348519335776\n",
      "Evaluating ResNet1D_BCE...\n",
      "Model: ResNet1D_BCE, Accuracy: 0.972293496131897, F1 Score: 0.19853940015414506\n",
      "Evaluating FFNNMod1...\n",
      "Model: FFNNMod1, Accuracy: 0.9770002961158752, F1 Score: 0.46438130478447454\n",
      "Evaluating FFNNMod2...\n",
      "Model: FFNNMod2, Accuracy: 0.976239800453186, F1 Score: 0.4425751018222649\n",
      "Evaluating MLPMod...\n",
      "Model: MLPMod, Accuracy: 0.9752091765403748, F1 Score: 0.36634526301696674\n",
      "Evaluating models for CellularComponent:\n",
      "Evaluating CNNMod1...\n",
      "Model: CNNMod1, Accuracy: 0.9799372553825378, F1 Score: 0.45780743722073797\n",
      "Evaluating ResNet1D_BCE...\n",
      "Model: ResNet1D_BCE, Accuracy: 0.9772809743881226, F1 Score: 0.303207578044891\n",
      "Evaluating FFNNMod1...\n",
      "Model: FFNNMod1, Accuracy: 0.9811740517616272, F1 Score: 0.4972965738268135\n",
      "Evaluating FFNNMod2...\n",
      "Model: FFNNMod2, Accuracy: 0.9806178212165833, F1 Score: 0.4962278912594993\n",
      "Evaluating MLPMod...\n",
      "Model: MLPMod, Accuracy: 0.9799655079841614, F1 Score: 0.4149721721499873\n",
      "Evaluating models for MolecularFunction:\n",
      "Evaluating CNNMod1...\n",
      "Model: CNNMod1, Accuracy: 0.9751366376876831, F1 Score: 0.4747700134778912\n",
      "Evaluating ResNet1D_BCE...\n",
      "Model: ResNet1D_BCE, Accuracy: 0.9699383974075317, F1 Score: 0.2365901979064956\n",
      "Evaluating FFNNMod1...\n",
      "Model: FFNNMod1, Accuracy: 0.977016270160675, F1 Score: 0.5101770162486744\n",
      "Evaluating FFNNMod2...\n",
      "Model: FFNNMod2, Accuracy: 0.9764593839645386, F1 Score: 0.4962166985258705\n",
      "Evaluating MLPMod...\n",
      "Model: MLPMod, Accuracy: 0.9728854894638062, F1 Score: 0.2844719741869958\n",
      "\n",
      "Best model for BiologicalProcesses: ./models/FFNNMod1/best_BP_model with Accuracy: 0.9770002961158752, F1 Score (Sample Avg): 0.46438130478447454\n",
      "\n",
      "Best model for CellularComponent: ./models/FFNNMod1/best_CC_model with Accuracy: 0.9811740517616272, F1 Score (Sample Avg): 0.4972965738268135\n",
      "\n",
      "Best model for MolecularFunction: ./models/FFNNMod1/best_MF_model with Accuracy: 0.977016270160675, F1 Score (Sample Avg): 0.5101770162486744\n"
     ]
    }
   ],
   "source": [
    "best_models = {}\n",
    "\n",
    "for category in datasets:\n",
    "    data_df, label_df = datasets[category]\n",
    "    best_f1_score = 0\n",
    "    best_model_path = None\n",
    "    best_accuracy = 0\n",
    "    \n",
    "    print(f\"Evaluating models for {category}:\")\n",
    "    for model_folder in model_folders:\n",
    "        print(f'Evaluating {model_folder}...')\n",
    "        current_model_path = f'{models_path}/{model_folder}/{model_data_map[category]}'\n",
    "        \n",
    "        model = tf.keras.models.load_model(current_model_path)\n",
    "        \n",
    "        scores = model.evaluate(data_df, label_df, verbose=0)\n",
    "        accuracy = scores[1]\n",
    "        precision = scores[3]\n",
    "        recall = scores[4]\n",
    "        F1_score = 2*precision*recall / (precision + recall)\n",
    "      \n",
    "        print(f\"Model: {model_folder}, Accuracy: {accuracy}, F1 Score: {F1_score}\")\n",
    "        \n",
    "        if F1_score > best_f1_score:\n",
    "            best_f1_score = F1_score\n",
    "            best_accuracy = accuracy\n",
    "            best_model_path = current_model_path\n",
    "            \n",
    "    best_models[category] = (best_model_path, best_accuracy, best_f1_score)\n",
    "    \n",
    "for category, (path, accuracy, f1) in best_models.items():\n",
    "    print(f\"\\nBest model for {category}: {path} with Accuracy: {accuracy}, F1 Score (Sample Avg): {f1}\")"
   ]
  },
  {
   "cell_type": "code",
   "execution_count": 7,
   "metadata": {},
   "outputs": [],
   "source": [
    "for category, (path, _, _) in best_models.items():\n",
    "    shutil.copytree(path, f\"{config['directories']['best_performing_k_fold_models']}/{model_data_map[category]}\")"
   ]
  },
  {
   "cell_type": "code",
   "execution_count": null,
   "metadata": {},
   "outputs": [],
   "source": []
  }
 ],
 "metadata": {
  "kernelspec": {
   "display_name": "Python 3 (ipykernel)",
   "language": "python",
   "name": "python3"
  },
  "language_info": {
   "codemirror_mode": {
    "name": "ipython",
    "version": 3
   },
   "file_extension": ".py",
   "mimetype": "text/x-python",
   "name": "python",
   "nbconvert_exporter": "python",
   "pygments_lexer": "ipython3",
   "version": "3.11.7"
  }
 },
 "nbformat": 4,
 "nbformat_minor": 2
}
