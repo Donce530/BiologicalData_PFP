{
  "nbformat": 4,
  "nbformat_minor": 0,
  "metadata": {
    "colab": {
      "provenance": []
    },
    "kernelspec": {
      "name": "python3",
      "display_name": "Python 3"
    },
    "language_info": {
      "name": "python"
    }
  },
  "cells": [
    {
      "cell_type": "markdown",
      "source": [
        "# Biological Data Final Project\n",
        "\n",
        "This notebook tests multiple models for predicting the function of proteins. The objective is to try different models for each of the 3 Gene Ontologies (Cellular Component, Molecular Function, Biological Processes), and choose the model which performs the best in predicting the function, i.e. GO term ID. Models are evaluated based on precision, accuracy, and F1 score."
      ],
      "metadata": {
        "id": "c4zxiGREOo_w"
      }
    },
    {
      "cell_type": "markdown",
      "source": [
        "## The Data\n",
        "\n",
        "Training data contains these files:\n",
        "*   train_set.tsv : The proteins, their Gene Ontology (GO) annotations and their corresponding aspects are given to you in a tab separated file. The GO annotations that are given for each protein are already propagated to the root of ontology.\n",
        "*   train_ids.txt: This file contains the accession IDs of the proteins that are given to you. It contains about 123k proteins. You may use all or a subset of them in the training.\n",
        "*   train.fasta: This file contains the sequence of the train proteins in fasta format.\n",
        "*   train_embeddings.h5 : This file contains ProtT5 embeddings for each protein in the train set.\n",
        "\n",
        "Note: there are about 123,969 proteins in the training set, thus depending on the models chosen for testing only a subset of the data may be used as it may be hard on computational resources."
      ],
      "metadata": {
        "id": "gA9TW3vTP4RF"
      }
    },
    {
      "cell_type": "markdown",
      "source": [
        "## Importing Required Libraries"
      ],
      "metadata": {
        "id": "M4e48pvyRBKD"
      }
    },
    {
      "cell_type": "code",
      "source": [
        "!pip install h5py"
      ],
      "metadata": {
        "id": "5SIzvI6oh1Ge",
        "colab": {
          "base_uri": "https://localhost:8080/"
        },
        "outputId": "dfdf6c0a-51d9-4465-88a3-2f108172561c"
      },
      "execution_count": 13,
      "outputs": [
        {
          "output_type": "stream",
          "name": "stdout",
          "text": [
            "Requirement already satisfied: h5py in /usr/local/lib/python3.10/dist-packages (3.9.0)\n",
            "Requirement already satisfied: numpy>=1.17.3 in /usr/local/lib/python3.10/dist-packages (from h5py) (1.25.2)\n"
          ]
        }
      ]
    },
    {
      "cell_type": "code",
      "execution_count": 12,
      "metadata": {
        "id": "INY5-pvaEKak"
      },
      "outputs": [],
      "source": [
        "import tensorflow as tf\n",
        "import pandas as pd\n",
        "import numpy as np\n",
        "import h5py\n",
        "import seaborn as sns\n",
        "import matplotlib.pyplot as plt\n",
        "from sklearn.model_selection import KFold"
      ]
    },
    {
      "cell_type": "code",
      "source": [
        "print(\"TensorFlow v\" + tf.__version__)\n",
        "print(\"Numpy v\" + np.__version__)"
      ],
      "metadata": {
        "id": "FQzydhXnRN-w",
        "colab": {
          "base_uri": "https://localhost:8080/"
        },
        "outputId": "70d51e02-2e48-4e1d-8dc3-07ec3833a984"
      },
      "execution_count": 3,
      "outputs": [
        {
          "output_type": "stream",
          "name": "stdout",
          "text": [
            "TensorFlow v2.15.0\n",
            "Numpy v1.25.2\n"
          ]
        }
      ]
    },
    {
      "cell_type": "code",
      "source": [
        "from google.colab import drive\n",
        "drive.mount('/content/drive/')"
      ],
      "metadata": {
        "id": "EHNRK5u9RRIt",
        "colab": {
          "base_uri": "https://localhost:8080/"
        },
        "outputId": "bbc58da7-428b-4bdc-d05c-93aac002cefc"
      },
      "execution_count": 15,
      "outputs": [
        {
          "output_type": "stream",
          "name": "stdout",
          "text": [
            "Mounted at /content/drive/\n"
          ]
        }
      ]
    },
    {
      "cell_type": "code",
      "source": [
        "#%%capture\n",
        "!unzip '/content/drive/MyDrive/ColabNotebooks/BiologicalData/Final_Project/biological_data_pfp.zip'"
      ],
      "metadata": {
        "id": "Dz1LtwZFRRzw",
        "colab": {
          "base_uri": "https://localhost:8080/"
        },
        "outputId": "32643afc-a636-4ccf-ec18-17f22967272b"
      },
      "execution_count": 16,
      "outputs": [
        {
          "output_type": "stream",
          "name": "stdout",
          "text": [
            "Archive:  /content/drive/MyDrive/ColabNotebooks/BiologicalData/Final_Project/biological_data_pfp.zip\n",
            "   creating: biological_data_pfp/\n",
            "   creating: biological_data_pfp/train/\n",
            "  inflating: biological_data_pfp/train/train_set.tsv  \n",
            "  inflating: biological_data_pfp/train/train.fasta  \n",
            "  inflating: biological_data_pfp/train/train_embeddings.h5  \n",
            "  inflating: biological_data_pfp/train/train_protein2ipr.dat  \n",
            "  inflating: biological_data_pfp/train/train_ids.txt  \n",
            "  inflating: biological_data_pfp/train/go-basic.obo  \n",
            "   creating: biological_data_pfp/test/\n",
            "  inflating: biological_data_pfp/test/test_embeddings.h5  \n",
            "  inflating: biological_data_pfp/test/test_ids.txt  \n",
            "  inflating: biological_data_pfp/test/blast_test_results.tsv  \n",
            "  inflating: biological_data_pfp/test/test_protein2ipr.dat  \n",
            "  inflating: biological_data_pfp/test/test.fasta  \n",
            "   creating: biological_data_pfp/baseline/\n",
            "   creating: biological_data_pfp/baseline/baseline_preds/\n",
            "  inflating: biological_data_pfp/baseline/baseline_preds/ipr_submission.tsv  \n",
            "  inflating: biological_data_pfp/baseline/baseline_preds/naive_submission.tsv  \n",
            "   creating: biological_data_pfp/baseline/baseline_results/\n",
            "  inflating: biological_data_pfp/baseline/baseline_results/evaluation_all.tsv  \n",
            "  inflating: biological_data_pfp/baseline/baseline_results/evaluation_best_f.tsv  \n",
            "  inflating: biological_data_pfp/baseline/baseline_results/fig_f.tsv  \n",
            "  inflating: biological_data_pfp/baseline/baseline_results/fig_f_biological_process.png  \n",
            "  inflating: biological_data_pfp/baseline/baseline_results/fig_f_cellular_component.png  \n",
            "  inflating: biological_data_pfp/baseline/baseline_results/fig_f_molecular_function.png  \n",
            "  inflating: biological_data_pfp/baseline/Naive_baseline.ipynb  \n",
            "  inflating: biological_data_pfp/baseline/InterPro_baseline.ipynb  \n"
          ]
        }
      ]
    },
    {
      "cell_type": "code",
      "source": [
        "%%capture\n",
        "!unzip '/content/drive/MyDrive/ColabNotebooks/BiologicalData/Final_Project/bio_data.zip'"
      ],
      "metadata": {
        "id": "l5Z0aaIvNDqH"
      },
      "execution_count": 13,
      "outputs": []
    },
    {
      "cell_type": "markdown",
      "source": [
        "## Loading protein terms\n",
        "\n",
        "First we will load the file `train_terms.tsv` which contains the list of annotated terms (functions) for the proteins. We will extract the labels aka `GO term ID` and create a label dataframe for the protein embeddings."
      ],
      "metadata": {
        "id": "BdNKXQUvSbGk"
      }
    },
    {
      "cell_type": "code",
      "execution_count": 33,
      "metadata": {
        "execution": {
          "iopub.execute_input": "2023-05-23T11:09:03.762160Z",
          "iopub.status.busy": "2023-05-23T11:09:03.761453Z",
          "iopub.status.idle": "2023-05-23T11:09:07.894965Z",
          "shell.execute_reply": "2023-05-23T11:09:07.893429Z"
        },
        "papermill": {
          "duration": 4.151072,
          "end_time": "2023-05-23T11:09:07.897636",
          "exception": false,
          "start_time": "2023-05-23T11:09:03.746564",
          "status": "completed"
        },
        "tags": [],
        "colab": {
          "base_uri": "https://localhost:8080/"
        },
        "id": "c18e6f37",
        "outputId": "962844c9-cec3-41d5-f6a3-3f9a09d45aec"
      },
      "outputs": [
        {
          "output_type": "stream",
          "name": "stdout",
          "text": [
            "(4277047, 3)\n"
          ]
        }
      ],
      "source": [
        "train_terms = pd.read_csv(\"/content/biological_data_pfp/train/train_set.tsv\",sep=\"\\t\")\n",
        "print(train_terms.shape)"
      ]
    },
    {
      "cell_type": "markdown",
      "metadata": {
        "papermill": {
          "duration": 0.013524,
          "end_time": "2023-05-23T11:09:07.924979",
          "exception": false,
          "start_time": "2023-05-23T11:09:07.911455",
          "status": "completed"
        },
        "tags": [],
        "id": "4950bfb9"
      },
      "source": [
        "`train_terms` dataframe is composed of 3 columns (Protein_ID, aspect, GO_term) and 4,277,047 entries.\n",
        "\n",
        "We can inspect the dataset by printing out the first 5 entries of the dataframe. The first entry of `train_terms.tsv`, has protein id `P91124`, aspect `cellular_component` and the GO term `GO:0005575`. We also notice that the next 4 entries are the same protein with the same aspect but different GO terms, thus it is clear that one protein can have many function labels."
      ]
    },
    {
      "cell_type": "code",
      "execution_count": 7,
      "metadata": {
        "execution": {
          "iopub.execute_input": "2023-05-23T11:09:07.955426Z",
          "iopub.status.busy": "2023-05-23T11:09:07.954997Z",
          "iopub.status.idle": "2023-05-23T11:09:07.984687Z",
          "shell.execute_reply": "2023-05-23T11:09:07.983492Z"
        },
        "papermill": {
          "duration": 0.048255,
          "end_time": "2023-05-23T11:09:07.987318",
          "exception": false,
          "start_time": "2023-05-23T11:09:07.939063",
          "status": "completed"
        },
        "tags": [],
        "colab": {
          "base_uri": "https://localhost:8080/",
          "height": 206
        },
        "id": "fca32138",
        "outputId": "9b2ee286-ff35-4535-f1be-30565f536697"
      },
      "outputs": [
        {
          "output_type": "execute_result",
          "data": {
            "text/plain": [
              "  Protein_ID              aspect     GO_term\n",
              "0     P91124  cellular_component  GO:0005575\n",
              "1     P91124  cellular_component  GO:0110165\n",
              "2     P91124  cellular_component  GO:0005737\n",
              "3     P91124  cellular_component  GO:0005622\n",
              "4     P91124  cellular_component  GO:0043226"
            ],
            "text/html": [
              "\n",
              "  <div id=\"df-608c4edc-5ff1-443b-b659-df915eb03974\" class=\"colab-df-container\">\n",
              "    <div>\n",
              "<style scoped>\n",
              "    .dataframe tbody tr th:only-of-type {\n",
              "        vertical-align: middle;\n",
              "    }\n",
              "\n",
              "    .dataframe tbody tr th {\n",
              "        vertical-align: top;\n",
              "    }\n",
              "\n",
              "    .dataframe thead th {\n",
              "        text-align: right;\n",
              "    }\n",
              "</style>\n",
              "<table border=\"1\" class=\"dataframe\">\n",
              "  <thead>\n",
              "    <tr style=\"text-align: right;\">\n",
              "      <th></th>\n",
              "      <th>Protein_ID</th>\n",
              "      <th>aspect</th>\n",
              "      <th>GO_term</th>\n",
              "    </tr>\n",
              "  </thead>\n",
              "  <tbody>\n",
              "    <tr>\n",
              "      <th>0</th>\n",
              "      <td>P91124</td>\n",
              "      <td>cellular_component</td>\n",
              "      <td>GO:0005575</td>\n",
              "    </tr>\n",
              "    <tr>\n",
              "      <th>1</th>\n",
              "      <td>P91124</td>\n",
              "      <td>cellular_component</td>\n",
              "      <td>GO:0110165</td>\n",
              "    </tr>\n",
              "    <tr>\n",
              "      <th>2</th>\n",
              "      <td>P91124</td>\n",
              "      <td>cellular_component</td>\n",
              "      <td>GO:0005737</td>\n",
              "    </tr>\n",
              "    <tr>\n",
              "      <th>3</th>\n",
              "      <td>P91124</td>\n",
              "      <td>cellular_component</td>\n",
              "      <td>GO:0005622</td>\n",
              "    </tr>\n",
              "    <tr>\n",
              "      <th>4</th>\n",
              "      <td>P91124</td>\n",
              "      <td>cellular_component</td>\n",
              "      <td>GO:0043226</td>\n",
              "    </tr>\n",
              "  </tbody>\n",
              "</table>\n",
              "</div>\n",
              "    <div class=\"colab-df-buttons\">\n",
              "\n",
              "  <div class=\"colab-df-container\">\n",
              "    <button class=\"colab-df-convert\" onclick=\"convertToInteractive('df-608c4edc-5ff1-443b-b659-df915eb03974')\"\n",
              "            title=\"Convert this dataframe to an interactive table.\"\n",
              "            style=\"display:none;\">\n",
              "\n",
              "  <svg xmlns=\"http://www.w3.org/2000/svg\" height=\"24px\" viewBox=\"0 -960 960 960\">\n",
              "    <path d=\"M120-120v-720h720v720H120Zm60-500h600v-160H180v160Zm220 220h160v-160H400v160Zm0 220h160v-160H400v160ZM180-400h160v-160H180v160Zm440 0h160v-160H620v160ZM180-180h160v-160H180v160Zm440 0h160v-160H620v160Z\"/>\n",
              "  </svg>\n",
              "    </button>\n",
              "\n",
              "  <style>\n",
              "    .colab-df-container {\n",
              "      display:flex;\n",
              "      gap: 12px;\n",
              "    }\n",
              "\n",
              "    .colab-df-convert {\n",
              "      background-color: #E8F0FE;\n",
              "      border: none;\n",
              "      border-radius: 50%;\n",
              "      cursor: pointer;\n",
              "      display: none;\n",
              "      fill: #1967D2;\n",
              "      height: 32px;\n",
              "      padding: 0 0 0 0;\n",
              "      width: 32px;\n",
              "    }\n",
              "\n",
              "    .colab-df-convert:hover {\n",
              "      background-color: #E2EBFA;\n",
              "      box-shadow: 0px 1px 2px rgba(60, 64, 67, 0.3), 0px 1px 3px 1px rgba(60, 64, 67, 0.15);\n",
              "      fill: #174EA6;\n",
              "    }\n",
              "\n",
              "    .colab-df-buttons div {\n",
              "      margin-bottom: 4px;\n",
              "    }\n",
              "\n",
              "    [theme=dark] .colab-df-convert {\n",
              "      background-color: #3B4455;\n",
              "      fill: #D2E3FC;\n",
              "    }\n",
              "\n",
              "    [theme=dark] .colab-df-convert:hover {\n",
              "      background-color: #434B5C;\n",
              "      box-shadow: 0px 1px 3px 1px rgba(0, 0, 0, 0.15);\n",
              "      filter: drop-shadow(0px 1px 2px rgba(0, 0, 0, 0.3));\n",
              "      fill: #FFFFFF;\n",
              "    }\n",
              "  </style>\n",
              "\n",
              "    <script>\n",
              "      const buttonEl =\n",
              "        document.querySelector('#df-608c4edc-5ff1-443b-b659-df915eb03974 button.colab-df-convert');\n",
              "      buttonEl.style.display =\n",
              "        google.colab.kernel.accessAllowed ? 'block' : 'none';\n",
              "\n",
              "      async function convertToInteractive(key) {\n",
              "        const element = document.querySelector('#df-608c4edc-5ff1-443b-b659-df915eb03974');\n",
              "        const dataTable =\n",
              "          await google.colab.kernel.invokeFunction('convertToInteractive',\n",
              "                                                    [key], {});\n",
              "        if (!dataTable) return;\n",
              "\n",
              "        const docLinkHtml = 'Like what you see? Visit the ' +\n",
              "          '<a target=\"_blank\" href=https://colab.research.google.com/notebooks/data_table.ipynb>data table notebook</a>'\n",
              "          + ' to learn more about interactive tables.';\n",
              "        element.innerHTML = '';\n",
              "        dataTable['output_type'] = 'display_data';\n",
              "        await google.colab.output.renderOutput(dataTable, element);\n",
              "        const docLink = document.createElement('div');\n",
              "        docLink.innerHTML = docLinkHtml;\n",
              "        element.appendChild(docLink);\n",
              "      }\n",
              "    </script>\n",
              "  </div>\n",
              "\n",
              "\n",
              "<div id=\"df-730effed-2bbf-4029-b2aa-909b411e22c9\">\n",
              "  <button class=\"colab-df-quickchart\" onclick=\"quickchart('df-730effed-2bbf-4029-b2aa-909b411e22c9')\"\n",
              "            title=\"Suggest charts\"\n",
              "            style=\"display:none;\">\n",
              "\n",
              "<svg xmlns=\"http://www.w3.org/2000/svg\" height=\"24px\"viewBox=\"0 0 24 24\"\n",
              "     width=\"24px\">\n",
              "    <g>\n",
              "        <path d=\"M19 3H5c-1.1 0-2 .9-2 2v14c0 1.1.9 2 2 2h14c1.1 0 2-.9 2-2V5c0-1.1-.9-2-2-2zM9 17H7v-7h2v7zm4 0h-2V7h2v10zm4 0h-2v-4h2v4z\"/>\n",
              "    </g>\n",
              "</svg>\n",
              "  </button>\n",
              "\n",
              "<style>\n",
              "  .colab-df-quickchart {\n",
              "      --bg-color: #E8F0FE;\n",
              "      --fill-color: #1967D2;\n",
              "      --hover-bg-color: #E2EBFA;\n",
              "      --hover-fill-color: #174EA6;\n",
              "      --disabled-fill-color: #AAA;\n",
              "      --disabled-bg-color: #DDD;\n",
              "  }\n",
              "\n",
              "  [theme=dark] .colab-df-quickchart {\n",
              "      --bg-color: #3B4455;\n",
              "      --fill-color: #D2E3FC;\n",
              "      --hover-bg-color: #434B5C;\n",
              "      --hover-fill-color: #FFFFFF;\n",
              "      --disabled-bg-color: #3B4455;\n",
              "      --disabled-fill-color: #666;\n",
              "  }\n",
              "\n",
              "  .colab-df-quickchart {\n",
              "    background-color: var(--bg-color);\n",
              "    border: none;\n",
              "    border-radius: 50%;\n",
              "    cursor: pointer;\n",
              "    display: none;\n",
              "    fill: var(--fill-color);\n",
              "    height: 32px;\n",
              "    padding: 0;\n",
              "    width: 32px;\n",
              "  }\n",
              "\n",
              "  .colab-df-quickchart:hover {\n",
              "    background-color: var(--hover-bg-color);\n",
              "    box-shadow: 0 1px 2px rgba(60, 64, 67, 0.3), 0 1px 3px 1px rgba(60, 64, 67, 0.15);\n",
              "    fill: var(--button-hover-fill-color);\n",
              "  }\n",
              "\n",
              "  .colab-df-quickchart-complete:disabled,\n",
              "  .colab-df-quickchart-complete:disabled:hover {\n",
              "    background-color: var(--disabled-bg-color);\n",
              "    fill: var(--disabled-fill-color);\n",
              "    box-shadow: none;\n",
              "  }\n",
              "\n",
              "  .colab-df-spinner {\n",
              "    border: 2px solid var(--fill-color);\n",
              "    border-color: transparent;\n",
              "    border-bottom-color: var(--fill-color);\n",
              "    animation:\n",
              "      spin 1s steps(1) infinite;\n",
              "  }\n",
              "\n",
              "  @keyframes spin {\n",
              "    0% {\n",
              "      border-color: transparent;\n",
              "      border-bottom-color: var(--fill-color);\n",
              "      border-left-color: var(--fill-color);\n",
              "    }\n",
              "    20% {\n",
              "      border-color: transparent;\n",
              "      border-left-color: var(--fill-color);\n",
              "      border-top-color: var(--fill-color);\n",
              "    }\n",
              "    30% {\n",
              "      border-color: transparent;\n",
              "      border-left-color: var(--fill-color);\n",
              "      border-top-color: var(--fill-color);\n",
              "      border-right-color: var(--fill-color);\n",
              "    }\n",
              "    40% {\n",
              "      border-color: transparent;\n",
              "      border-right-color: var(--fill-color);\n",
              "      border-top-color: var(--fill-color);\n",
              "    }\n",
              "    60% {\n",
              "      border-color: transparent;\n",
              "      border-right-color: var(--fill-color);\n",
              "    }\n",
              "    80% {\n",
              "      border-color: transparent;\n",
              "      border-right-color: var(--fill-color);\n",
              "      border-bottom-color: var(--fill-color);\n",
              "    }\n",
              "    90% {\n",
              "      border-color: transparent;\n",
              "      border-bottom-color: var(--fill-color);\n",
              "    }\n",
              "  }\n",
              "</style>\n",
              "\n",
              "  <script>\n",
              "    async function quickchart(key) {\n",
              "      const quickchartButtonEl =\n",
              "        document.querySelector('#' + key + ' button');\n",
              "      quickchartButtonEl.disabled = true;  // To prevent multiple clicks.\n",
              "      quickchartButtonEl.classList.add('colab-df-spinner');\n",
              "      try {\n",
              "        const charts = await google.colab.kernel.invokeFunction(\n",
              "            'suggestCharts', [key], {});\n",
              "      } catch (error) {\n",
              "        console.error('Error during call to suggestCharts:', error);\n",
              "      }\n",
              "      quickchartButtonEl.classList.remove('colab-df-spinner');\n",
              "      quickchartButtonEl.classList.add('colab-df-quickchart-complete');\n",
              "    }\n",
              "    (() => {\n",
              "      let quickchartButtonEl =\n",
              "        document.querySelector('#df-730effed-2bbf-4029-b2aa-909b411e22c9 button');\n",
              "      quickchartButtonEl.style.display =\n",
              "        google.colab.kernel.accessAllowed ? 'block' : 'none';\n",
              "    })();\n",
              "  </script>\n",
              "</div>\n",
              "    </div>\n",
              "  </div>\n"
            ],
            "application/vnd.google.colaboratory.intrinsic+json": {
              "type": "dataframe",
              "variable_name": "train_terms"
            }
          },
          "metadata": {},
          "execution_count": 7
        }
      ],
      "source": [
        "train_terms.head()"
      ]
    },
    {
      "cell_type": "markdown",
      "source": [
        "## Visualizing the Data\n",
        "\n",
        "Let's plot the most frequent 100 `GO Term ID`s in `train_terms.tsv`."
      ],
      "metadata": {
        "id": "Vm48v9woUQZW"
      }
    },
    {
      "cell_type": "code",
      "source": [
        "len(train_terms['GO_term'].unique())"
      ],
      "metadata": {
        "colab": {
          "base_uri": "https://localhost:8080/"
        },
        "id": "Qj7N8W7YRkuc",
        "outputId": "8373ab22-2758-44b9-9e15-d4882e1c93b8"
      },
      "execution_count": 8,
      "outputs": [
        {
          "output_type": "execute_result",
          "data": {
            "text/plain": [
              "3004"
            ]
          },
          "metadata": {},
          "execution_count": 8
        }
      ]
    },
    {
      "cell_type": "code",
      "execution_count": 9,
      "metadata": {
        "execution": {
          "iopub.execute_input": "2023-05-23T11:09:19.729599Z",
          "iopub.status.busy": "2023-05-23T11:09:19.729155Z",
          "iopub.status.idle": "2023-05-23T11:09:22.055608Z",
          "shell.execute_reply": "2023-05-23T11:09:22.054486Z"
        },
        "papermill": {
          "duration": 2.346564,
          "end_time": "2023-05-23T11:09:22.058321",
          "exception": false,
          "start_time": "2023-05-23T11:09:19.711757",
          "status": "completed"
        },
        "tags": [],
        "colab": {
          "base_uri": "https://localhost:8080/",
          "height": 567
        },
        "id": "71bfc7ab",
        "outputId": "503fae9d-6c68-4655-f1f2-76d715074e93"
      },
      "outputs": [
        {
          "output_type": "stream",
          "name": "stderr",
          "text": [
            "<ipython-input-9-525d010f2414>:17: FutureWarning: \n",
            "\n",
            "Passing `palette` without assigning `hue` is deprecated and will be removed in v0.14.0. Assign the `x` variable to `hue` and set `legend=False` for the same effect.\n",
            "\n",
            "  bp = sns.barplot(ax=axis, x=np.array(GOterms_100.index), y=GOterms_100.values, palette=colors_list)\n",
            "<ipython-input-9-525d010f2414>:17: UserWarning: The palette list has more values (3004) than needed (100), which may not be intended.\n",
            "  bp = sns.barplot(ax=axis, x=np.array(GOterms_100.index), y=GOterms_100.values, palette=colors_list)\n",
            "<ipython-input-9-525d010f2414>:18: UserWarning: FixedFormatter should only be used together with FixedLocator\n",
            "  bp.set_xticklabels(bp.get_xticklabels(), rotation=90, size = 6)\n"
          ]
        },
        {
          "output_type": "display_data",
          "data": {
            "text/plain": [
              "<Figure size 1200x600 with 1 Axes>"
            ],
            "image/png": "[encoded data removed]"
          },
          "metadata": {}
        }
      ],
      "source": [
        "# Select first 100 values for plotting\n",
        "GOterms = train_terms['GO_term'].value_counts()\n",
        "GOterms_100 = train_terms['GO_term'].value_counts().iloc[:100]\n",
        "\n",
        "#Calculate percentiles\n",
        "percentiles = np.percentile(GOterms.values, [25, 50, 75, 100])\n",
        "\n",
        "# Define colors for each percentile range\n",
        "colors = sns.color_palette(\"hls\", 5)\n",
        "\n",
        "# Assign colors to bars based on their percentiles\n",
        "percentile_list = np.digitize(GOterms.values, percentiles)\n",
        "colors_list = [colors[i] for i in percentile_list]\n",
        "\n",
        "figure, axis = plt.subplots(1, 1, figsize=(12, 6))\n",
        "\n",
        "bp = sns.barplot(ax=axis, x=np.array(GOterms_100.index), y=GOterms_100.values, palette=colors_list)\n",
        "bp.set_xticklabels(bp.get_xticklabels(), rotation=90, size = 6)\n",
        "axis.set_title('100 Most frequent GO term IDs')\n",
        "bp.set_xlabel(\"GO term IDs\", fontsize = 12)\n",
        "bp.set_ylabel(\"Count\", fontsize = 12)\n",
        "plt.savefig('100 Most frequent GO term IDs')\n",
        "plt.show()"
      ]
    },
    {
      "cell_type": "markdown",
      "source": [
        "As specified in the project, to limit prediction file sizes, one target cannot be associated with more than 1500 terms for MF, BP and CC sub ontologies combined. Thus the first 1500 most frequent `GO_terms` will be extracted and saved into a list."
      ],
      "metadata": {
        "id": "XUOxGbEeTpA0"
      }
    },
    {
      "cell_type": "code",
      "source": [
        "# Calculate the cumulative sum of the counts of the first 100 GO term IDs\n",
        "cumulative_sum = GOterms.values.cumsum()\n",
        "\n",
        "# Calculate the total count of all GO term IDs\n",
        "total_count = cumulative_sum[-1]\n",
        "\n",
        "# Calculate the percentage covered by the first 100 GO term IDs\n",
        "percentage_covered = (cumulative_sum[1499] / total_count) * 100\n",
        "\n",
        "print(f\"The first 1500 GO term IDs cover {percentage_covered:.2f}% of the data.\")\n"
      ],
      "metadata": {
        "colab": {
          "base_uri": "https://localhost:8080/"
        },
        "id": "oTuW-tGRaWgF",
        "outputId": "0e9e30ae-30d4-4363-ece6-5e6907470a97"
      },
      "execution_count": 10,
      "outputs": [
        {
          "output_type": "stream",
          "name": "stdout",
          "text": [
            "The first 1500 GO term IDs cover 93.59% of the data.\n"
          ]
        }
      ]
    },
    {
      "cell_type": "code",
      "source": [
        "# Set the limit for label\n",
        "num_labels = 1500\n",
        "\n",
        "# Take value counts in descending order and fetch first 1500 `GO term ID` as labels\n",
        "labels = train_terms['GO_term'].value_counts().index[:num_labels].tolist()"
      ],
      "metadata": {
        "id": "DHkA7scsUWzr"
      },
      "execution_count": 34,
      "outputs": []
    },
    {
      "cell_type": "markdown",
      "source": [
        "## Preparing the Dataset\n",
        "As the 3 branches of the Gene Ontology are non-overlapping, we will separate the dataset and train each branch separately."
      ],
      "metadata": {
        "id": "DQafoLYEUX26"
      }
    },
    {
      "cell_type": "code",
      "source": [
        "BP_train_df = pd.read_pickle('/content/bio_data/train_embeddings_BiologicalProcesses.pkl')\n",
        "CC_train_df = pd.read_pickle('/content/bio_data/train_embeddings_CellularComponent.pkl')\n",
        "MF_train_df = pd.read_pickle('/content/bio_data/train_embeddings_MolecularFunction.pkl')"
      ],
      "metadata": {
        "id": "EgQNBoLEFwNF"
      },
      "execution_count": 15,
      "outputs": []
    },
    {
      "cell_type": "code",
      "source": [
        "BP_label_df = pd.read_pickle('/content/bio_data/train_labels_BiologicalProcesses.pkl')\n",
        "CC_label_df = pd.read_pickle('/content/bio_data/train_labels_CellularComponent.pkl')\n",
        "MF_label_df = pd.read_pickle('/content/bio_data/train_labels_MolecularFunction.pkl')"
      ],
      "metadata": {
        "id": "LQQzfrFeYosg"
      },
      "execution_count": 16,
      "outputs": []
    },
    {
      "cell_type": "markdown",
      "source": [
        "## Loading the best models\n",
        "\n",
        "The best models obtained from testing were the feed forward neural networks. In each case, the best model had 3 dense hidden layers and the relu activation function for each layer\n",
        "\n",
        "We will now load these best models and use them on the test set."
      ],
      "metadata": {
        "id": "WXpUhgulbb_2"
      }
    },
    {
      "cell_type": "code",
      "source": [
        "!unzip '/content/best_BP_model.zip'"
      ],
      "metadata": {
        "colab": {
          "base_uri": "https://localhost:8080/"
        },
        "id": "a6PiTZGt6UFq",
        "outputId": "74b9d853-c153-4b41-bc48-8b869079175f"
      },
      "execution_count": 10,
      "outputs": [
        {
          "output_type": "stream",
          "name": "stdout",
          "text": [
            "Archive:  /content/best_BP_model.zip\n",
            " extracting: best_BP_model/fingerprint.pb  \n",
            "  inflating: best_BP_model/keras_metadata.pb  \n",
            "  inflating: best_BP_model/saved_model.pb  \n",
            "   creating: best_BP_model/variables/\n",
            "  inflating: best_BP_model/variables/variables.data-00000-of-00001  \n",
            "  inflating: best_BP_model/variables/variables.index  \n"
          ]
        }
      ]
    },
    {
      "cell_type": "code",
      "source": [
        "!unzip '/content/best_MF_model.zip'"
      ],
      "metadata": {
        "colab": {
          "base_uri": "https://localhost:8080/"
        },
        "id": "7Oat_r4S8lf3",
        "outputId": "e0047e92-cb04-4641-9f50-56afd6207f6d"
      },
      "execution_count": 19,
      "outputs": [
        {
          "output_type": "stream",
          "name": "stdout",
          "text": [
            "Archive:  /content/best_MF_model.zip\n",
            " extracting: best_MF_model/fingerprint.pb  \n",
            "  inflating: best_MF_model/keras_metadata.pb  \n",
            "  inflating: best_MF_model/saved_model.pb  \n",
            "   creating: best_MF_model/variables/\n",
            "  inflating: best_MF_model/variables/variables.data-00000-of-00001  \n",
            "  inflating: best_MF_model/variables/variables.index  \n"
          ]
        }
      ]
    },
    {
      "cell_type": "code",
      "source": [
        "!unzip '/content/best_CC_model.zip'"
      ],
      "metadata": {
        "colab": {
          "base_uri": "https://localhost:8080/"
        },
        "id": "D5FqGGx59OIa",
        "outputId": "9e19870a-be71-4c8d-fcc8-1bd99d3723ec"
      },
      "execution_count": 18,
      "outputs": [
        {
          "output_type": "stream",
          "name": "stdout",
          "text": [
            "Archive:  /content/best_CC_model.zip\n",
            " extracting: best_CC_model/fingerprint.pb  \n",
            "  inflating: best_CC_model/keras_metadata.pb  \n",
            "  inflating: best_CC_model/saved_model.pb  \n",
            "   creating: best_CC_model/variables/\n",
            "  inflating: best_CC_model/variables/variables.data-00000-of-00001  \n",
            "  inflating: best_CC_model/variables/variables.index  \n"
          ]
        }
      ]
    },
    {
      "cell_type": "code",
      "source": [
        "# load models\n",
        "best_BP_model = tf.keras.models.load_model(\n",
        "    '/content/best_BP_model'\n",
        ")\n",
        "\n",
        "best_MF_model = tf.keras.models.load_model(\n",
        "    '/content/best_MF_model'\n",
        ")\n",
        "\n",
        "best_CC_model = tf.keras.models.load_model(\n",
        "    '/content/best_CC_model'\n",
        ")"
      ],
      "metadata": {
        "id": "rXPKFt6ZFOB7"
      },
      "execution_count": 20,
      "outputs": []
    },
    {
      "cell_type": "markdown",
      "source": [
        "## Testing the models\n",
        "\n",
        "For testing we use the test embeddings provided in the specification of the project"
      ],
      "metadata": {
        "id": "u64-4aUZLNQV"
      }
    },
    {
      "cell_type": "code",
      "source": [
        "hf_test = h5py.File('/content/biological_data_pfp/test/test_embeddings.h5', 'r')\n",
        "hf_test_dsets = list(hf_test.keys())\n",
        "len(hf_test_dsets)"
      ],
      "metadata": {
        "id": "vUqzr975LIrr",
        "colab": {
          "base_uri": "https://localhost:8080/"
        },
        "outputId": "6fcc0e6f-cb4d-4aeb-8a45-77b2aeb2290e"
      },
      "execution_count": 21,
      "outputs": [
        {
          "output_type": "execute_result",
          "data": {
            "text/plain": [
              "1000"
            ]
          },
          "metadata": {},
          "execution_count": 21
        }
      ]
    },
    {
      "cell_type": "code",
      "source": [
        "loa_test = []\n",
        "for key in hf_test_dsets:\n",
        "  arr = np.array(hf_test[key])\n",
        "  loa_test.append(arr)"
      ],
      "metadata": {
        "id": "r602L5EHLxhF"
      },
      "execution_count": 22,
      "outputs": []
    },
    {
      "cell_type": "markdown",
      "source": [
        "After converting to a dataframe, the `test_embed_df` will be composed of 1024 columns and 1000 entries."
      ],
      "metadata": {
        "id": "vEAtufeBMPHk"
      }
    },
    {
      "cell_type": "code",
      "source": [
        "test_embed_df = pd.DataFrame(loa_test)\n",
        "print(test_embed_df.shape)\n",
        "test_embed_df.head()"
      ],
      "metadata": {
        "id": "zRsY6a-2L681",
        "colab": {
          "base_uri": "https://localhost:8080/",
          "height": 273
        },
        "outputId": "45984914-c054-4830-f3a6-3b8f17b11b1b"
      },
      "execution_count": 23,
      "outputs": [
        {
          "output_type": "stream",
          "name": "stdout",
          "text": [
            "(1000, 1024)\n"
          ]
        },
        {
          "output_type": "execute_result",
          "data": {
            "text/plain": [
              "       0         1         2         3         4         5         6     \\\n",
              "0  0.009789 -0.039734  0.036530 -0.006447 -0.040619  0.040436 -0.072327   \n",
              "1  0.027863 -0.011543  0.008865 -0.017654  0.007339  0.031769 -0.070068   \n",
              "2  0.016434  0.018021  0.037018 -0.059113  0.035614  0.008308  0.014236   \n",
              "3  0.008820  0.083496 -0.001374 -0.000365 -0.064209  0.008026 -0.015854   \n",
              "4  0.065918  0.092896 -0.001803  0.022598  0.038300  0.049957 -0.035187   \n",
              "\n",
              "       7         8         9     ...      1014      1015      1016      1017  \\\n",
              "0 -0.092529  0.019455  0.029678  ... -0.030914 -0.039246  0.011017 -0.077881   \n",
              "1 -0.052490 -0.005741  0.012207  ...  0.000603 -0.028015 -0.024490 -0.051941   \n",
              "2 -0.073059  0.003464  0.010353  ...  0.018570 -0.017517  0.009178 -0.002863   \n",
              "3  0.000292  0.023911 -0.015503  ... -0.053955  0.018311  0.023010 -0.012268   \n",
              "4 -0.059845 -0.035095 -0.051178  ... -0.047302 -0.088440 -0.065125  0.014442   \n",
              "\n",
              "       1018      1019      1020      1021      1022      1023  \n",
              "0  0.020782  0.062561 -0.006870  0.013107  0.069885  0.003922  \n",
              "1  0.071228  0.009438 -0.031860 -0.000835  0.041290  0.004852  \n",
              "2 -0.024139  0.013062  0.018951  0.039032 -0.029526 -0.023727  \n",
              "3  0.022034  0.021866 -0.006222  0.001735 -0.020935  0.026337  \n",
              "4  0.049225 -0.048553  0.007324  0.029739 -0.007397  0.025970  \n",
              "\n",
              "[5 rows x 1024 columns]"
            ],
            "text/html": [
              "\n",
              "  <div id=\"df-2586afde-fe8e-42b2-a24f-d6c04150da37\" class=\"colab-df-container\">\n",
              "    <div>\n",
              "<style scoped>\n",
              "    .dataframe tbody tr th:only-of-type {\n",
              "        vertical-align: middle;\n",
              "    }\n",
              "\n",
              "    .dataframe tbody tr th {\n",
              "        vertical-align: top;\n",
              "    }\n",
              "\n",
              "    .dataframe thead th {\n",
              "        text-align: right;\n",
              "    }\n",
              "</style>\n",
              "<table border=\"1\" class=\"dataframe\">\n",
              "  <thead>\n",
              "    <tr style=\"text-align: right;\">\n",
              "      <th></th>\n",
              "      <th>0</th>\n",
              "      <th>1</th>\n",
              "      <th>2</th>\n",
              "      <th>3</th>\n",
              "      <th>4</th>\n",
              "      <th>5</th>\n",
              "      <th>6</th>\n",
              "      <th>7</th>\n",
              "      <th>8</th>\n",
              "      <th>9</th>\n",
              "      <th>...</th>\n",
              "      <th>1014</th>\n",
              "      <th>1015</th>\n",
              "      <th>1016</th>\n",
              "      <th>1017</th>\n",
              "      <th>1018</th>\n",
              "      <th>1019</th>\n",
              "      <th>1020</th>\n",
              "      <th>1021</th>\n",
              "      <th>1022</th>\n",
              "      <th>1023</th>\n",
              "    </tr>\n",
              "  </thead>\n",
              "  <tbody>\n",
              "    <tr>\n",
              "      <th>0</th>\n",
              "      <td>0.009789</td>\n",
              "      <td>-0.039734</td>\n",
              "      <td>0.036530</td>\n",
              "      <td>-0.006447</td>\n",
              "      <td>-0.040619</td>\n",
              "      <td>0.040436</td>\n",
              "      <td>-0.072327</td>\n",
              "      <td>-0.092529</td>\n",
              "      <td>0.019455</td>\n",
              "      <td>0.029678</td>\n",
              "      <td>...</td>\n",
              "      <td>-0.030914</td>\n",
              "      <td>-0.039246</td>\n",
              "      <td>0.011017</td>\n",
              "      <td>-0.077881</td>\n",
              "      <td>0.020782</td>\n",
              "      <td>0.062561</td>\n",
              "      <td>-0.006870</td>\n",
              "      <td>0.013107</td>\n",
              "      <td>0.069885</td>\n",
              "      <td>0.003922</td>\n",
              "    </tr>\n",
              "    <tr>\n",
              "      <th>1</th>\n",
              "      <td>0.027863</td>\n",
              "      <td>-0.011543</td>\n",
              "      <td>0.008865</td>\n",
              "      <td>-0.017654</td>\n",
              "      <td>0.007339</td>\n",
              "      <td>0.031769</td>\n",
              "      <td>-0.070068</td>\n",
              "      <td>-0.052490</td>\n",
              "      <td>-0.005741</td>\n",
              "      <td>0.012207</td>\n",
              "      <td>...</td>\n",
              "      <td>0.000603</td>\n",
              "      <td>-0.028015</td>\n",
              "      <td>-0.024490</td>\n",
              "      <td>-0.051941</td>\n",
              "      <td>0.071228</td>\n",
              "      <td>0.009438</td>\n",
              "      <td>-0.031860</td>\n",
              "      <td>-0.000835</td>\n",
              "      <td>0.041290</td>\n",
              "      <td>0.004852</td>\n",
              "    </tr>\n",
              "    <tr>\n",
              "      <th>2</th>\n",
              "      <td>0.016434</td>\n",
              "      <td>0.018021</td>\n",
              "      <td>0.037018</td>\n",
              "      <td>-0.059113</td>\n",
              "      <td>0.035614</td>\n",
              "      <td>0.008308</td>\n",
              "      <td>0.014236</td>\n",
              "      <td>-0.073059</td>\n",
              "      <td>0.003464</td>\n",
              "      <td>0.010353</td>\n",
              "      <td>...</td>\n",
              "      <td>0.018570</td>\n",
              "      <td>-0.017517</td>\n",
              "      <td>0.009178</td>\n",
              "      <td>-0.002863</td>\n",
              "      <td>-0.024139</td>\n",
              "      <td>0.013062</td>\n",
              "      <td>0.018951</td>\n",
              "      <td>0.039032</td>\n",
              "      <td>-0.029526</td>\n",
              "      <td>-0.023727</td>\n",
              "    </tr>\n",
              "    <tr>\n",
              "      <th>3</th>\n",
              "      <td>0.008820</td>\n",
              "      <td>0.083496</td>\n",
              "      <td>-0.001374</td>\n",
              "      <td>-0.000365</td>\n",
              "      <td>-0.064209</td>\n",
              "      <td>0.008026</td>\n",
              "      <td>-0.015854</td>\n",
              "      <td>0.000292</td>\n",
              "      <td>0.023911</td>\n",
              "      <td>-0.015503</td>\n",
              "      <td>...</td>\n",
              "      <td>-0.053955</td>\n",
              "      <td>0.018311</td>\n",
              "      <td>0.023010</td>\n",
              "      <td>-0.012268</td>\n",
              "      <td>0.022034</td>\n",
              "      <td>0.021866</td>\n",
              "      <td>-0.006222</td>\n",
              "      <td>0.001735</td>\n",
              "      <td>-0.020935</td>\n",
              "      <td>0.026337</td>\n",
              "    </tr>\n",
              "    <tr>\n",
              "      <th>4</th>\n",
              "      <td>0.065918</td>\n",
              "      <td>0.092896</td>\n",
              "      <td>-0.001803</td>\n",
              "      <td>0.022598</td>\n",
              "      <td>0.038300</td>\n",
              "      <td>0.049957</td>\n",
              "      <td>-0.035187</td>\n",
              "      <td>-0.059845</td>\n",
              "      <td>-0.035095</td>\n",
              "      <td>-0.051178</td>\n",
              "      <td>...</td>\n",
              "      <td>-0.047302</td>\n",
              "      <td>-0.088440</td>\n",
              "      <td>-0.065125</td>\n",
              "      <td>0.014442</td>\n",
              "      <td>0.049225</td>\n",
              "      <td>-0.048553</td>\n",
              "      <td>0.007324</td>\n",
              "      <td>0.029739</td>\n",
              "      <td>-0.007397</td>\n",
              "      <td>0.025970</td>\n",
              "    </tr>\n",
              "  </tbody>\n",
              "</table>\n",
              "<p>5 rows × 1024 columns</p>\n",
              "</div>\n",
              "    <div class=\"colab-df-buttons\">\n",
              "\n",
              "  <div class=\"colab-df-container\">\n",
              "    <button class=\"colab-df-convert\" onclick=\"convertToInteractive('df-2586afde-fe8e-42b2-a24f-d6c04150da37')\"\n",
              "            title=\"Convert this dataframe to an interactive table.\"\n",
              "            style=\"display:none;\">\n",
              "\n",
              "  <svg xmlns=\"http://www.w3.org/2000/svg\" height=\"24px\" viewBox=\"0 -960 960 960\">\n",
              "    <path d=\"M120-120v-720h720v720H120Zm60-500h600v-160H180v160Zm220 220h160v-160H400v160Zm0 220h160v-160H400v160ZM180-400h160v-160H180v160Zm440 0h160v-160H620v160ZM180-180h160v-160H180v160Zm440 0h160v-160H620v160Z\"/>\n",
              "  </svg>\n",
              "    </button>\n",
              "\n",
              "  <style>\n",
              "    .colab-df-container {\n",
              "      display:flex;\n",
              "      gap: 12px;\n",
              "    }\n",
              "\n",
              "    .colab-df-convert {\n",
              "      background-color: #E8F0FE;\n",
              "      border: none;\n",
              "      border-radius: 50%;\n",
              "      cursor: pointer;\n",
              "      display: none;\n",
              "      fill: #1967D2;\n",
              "      height: 32px;\n",
              "      padding: 0 0 0 0;\n",
              "      width: 32px;\n",
              "    }\n",
              "\n",
              "    .colab-df-convert:hover {\n",
              "      background-color: #E2EBFA;\n",
              "      box-shadow: 0px 1px 2px rgba(60, 64, 67, 0.3), 0px 1px 3px 1px rgba(60, 64, 67, 0.15);\n",
              "      fill: #174EA6;\n",
              "    }\n",
              "\n",
              "    .colab-df-buttons div {\n",
              "      margin-bottom: 4px;\n",
              "    }\n",
              "\n",
              "    [theme=dark] .colab-df-convert {\n",
              "      background-color: #3B4455;\n",
              "      fill: #D2E3FC;\n",
              "    }\n",
              "\n",
              "    [theme=dark] .colab-df-convert:hover {\n",
              "      background-color: #434B5C;\n",
              "      box-shadow: 0px 1px 3px 1px rgba(0, 0, 0, 0.15);\n",
              "      filter: drop-shadow(0px 1px 2px rgba(0, 0, 0, 0.3));\n",
              "      fill: #FFFFFF;\n",
              "    }\n",
              "  </style>\n",
              "\n",
              "    <script>\n",
              "      const buttonEl =\n",
              "        document.querySelector('#df-2586afde-fe8e-42b2-a24f-d6c04150da37 button.colab-df-convert');\n",
              "      buttonEl.style.display =\n",
              "        google.colab.kernel.accessAllowed ? 'block' : 'none';\n",
              "\n",
              "      async function convertToInteractive(key) {\n",
              "        const element = document.querySelector('#df-2586afde-fe8e-42b2-a24f-d6c04150da37');\n",
              "        const dataTable =\n",
              "          await google.colab.kernel.invokeFunction('convertToInteractive',\n",
              "                                                    [key], {});\n",
              "        if (!dataTable) return;\n",
              "\n",
              "        const docLinkHtml = 'Like what you see? Visit the ' +\n",
              "          '<a target=\"_blank\" href=https://colab.research.google.com/notebooks/data_table.ipynb>data table notebook</a>'\n",
              "          + ' to learn more about interactive tables.';\n",
              "        element.innerHTML = '';\n",
              "        dataTable['output_type'] = 'display_data';\n",
              "        await google.colab.output.renderOutput(dataTable, element);\n",
              "        const docLink = document.createElement('div');\n",
              "        docLink.innerHTML = docLinkHtml;\n",
              "        element.appendChild(docLink);\n",
              "      }\n",
              "    </script>\n",
              "  </div>\n",
              "\n",
              "\n",
              "<div id=\"df-7b261cb9-3c9f-43cb-a1eb-1e0f68c70f98\">\n",
              "  <button class=\"colab-df-quickchart\" onclick=\"quickchart('df-7b261cb9-3c9f-43cb-a1eb-1e0f68c70f98')\"\n",
              "            title=\"Suggest charts\"\n",
              "            style=\"display:none;\">\n",
              "\n",
              "<svg xmlns=\"http://www.w3.org/2000/svg\" height=\"24px\"viewBox=\"0 0 24 24\"\n",
              "     width=\"24px\">\n",
              "    <g>\n",
              "        <path d=\"M19 3H5c-1.1 0-2 .9-2 2v14c0 1.1.9 2 2 2h14c1.1 0 2-.9 2-2V5c0-1.1-.9-2-2-2zM9 17H7v-7h2v7zm4 0h-2V7h2v10zm4 0h-2v-4h2v4z\"/>\n",
              "    </g>\n",
              "</svg>\n",
              "  </button>\n",
              "\n",
              "<style>\n",
              "  .colab-df-quickchart {\n",
              "      --bg-color: #E8F0FE;\n",
              "      --fill-color: #1967D2;\n",
              "      --hover-bg-color: #E2EBFA;\n",
              "      --hover-fill-color: #174EA6;\n",
              "      --disabled-fill-color: #AAA;\n",
              "      --disabled-bg-color: #DDD;\n",
              "  }\n",
              "\n",
              "  [theme=dark] .colab-df-quickchart {\n",
              "      --bg-color: #3B4455;\n",
              "      --fill-color: #D2E3FC;\n",
              "      --hover-bg-color: #434B5C;\n",
              "      --hover-fill-color: #FFFFFF;\n",
              "      --disabled-bg-color: #3B4455;\n",
              "      --disabled-fill-color: #666;\n",
              "  }\n",
              "\n",
              "  .colab-df-quickchart {\n",
              "    background-color: var(--bg-color);\n",
              "    border: none;\n",
              "    border-radius: 50%;\n",
              "    cursor: pointer;\n",
              "    display: none;\n",
              "    fill: var(--fill-color);\n",
              "    height: 32px;\n",
              "    padding: 0;\n",
              "    width: 32px;\n",
              "  }\n",
              "\n",
              "  .colab-df-quickchart:hover {\n",
              "    background-color: var(--hover-bg-color);\n",
              "    box-shadow: 0 1px 2px rgba(60, 64, 67, 0.3), 0 1px 3px 1px rgba(60, 64, 67, 0.15);\n",
              "    fill: var(--button-hover-fill-color);\n",
              "  }\n",
              "\n",
              "  .colab-df-quickchart-complete:disabled,\n",
              "  .colab-df-quickchart-complete:disabled:hover {\n",
              "    background-color: var(--disabled-bg-color);\n",
              "    fill: var(--disabled-fill-color);\n",
              "    box-shadow: none;\n",
              "  }\n",
              "\n",
              "  .colab-df-spinner {\n",
              "    border: 2px solid var(--fill-color);\n",
              "    border-color: transparent;\n",
              "    border-bottom-color: var(--fill-color);\n",
              "    animation:\n",
              "      spin 1s steps(1) infinite;\n",
              "  }\n",
              "\n",
              "  @keyframes spin {\n",
              "    0% {\n",
              "      border-color: transparent;\n",
              "      border-bottom-color: var(--fill-color);\n",
              "      border-left-color: var(--fill-color);\n",
              "    }\n",
              "    20% {\n",
              "      border-color: transparent;\n",
              "      border-left-color: var(--fill-color);\n",
              "      border-top-color: var(--fill-color);\n",
              "    }\n",
              "    30% {\n",
              "      border-color: transparent;\n",
              "      border-left-color: var(--fill-color);\n",
              "      border-top-color: var(--fill-color);\n",
              "      border-right-color: var(--fill-color);\n",
              "    }\n",
              "    40% {\n",
              "      border-color: transparent;\n",
              "      border-right-color: var(--fill-color);\n",
              "      border-top-color: var(--fill-color);\n",
              "    }\n",
              "    60% {\n",
              "      border-color: transparent;\n",
              "      border-right-color: var(--fill-color);\n",
              "    }\n",
              "    80% {\n",
              "      border-color: transparent;\n",
              "      border-right-color: var(--fill-color);\n",
              "      border-bottom-color: var(--fill-color);\n",
              "    }\n",
              "    90% {\n",
              "      border-color: transparent;\n",
              "      border-bottom-color: var(--fill-color);\n",
              "    }\n",
              "  }\n",
              "</style>\n",
              "\n",
              "  <script>\n",
              "    async function quickchart(key) {\n",
              "      const quickchartButtonEl =\n",
              "        document.querySelector('#' + key + ' button');\n",
              "      quickchartButtonEl.disabled = true;  // To prevent multiple clicks.\n",
              "      quickchartButtonEl.classList.add('colab-df-spinner');\n",
              "      try {\n",
              "        const charts = await google.colab.kernel.invokeFunction(\n",
              "            'suggestCharts', [key], {});\n",
              "      } catch (error) {\n",
              "        console.error('Error during call to suggestCharts:', error);\n",
              "      }\n",
              "      quickchartButtonEl.classList.remove('colab-df-spinner');\n",
              "      quickchartButtonEl.classList.add('colab-df-quickchart-complete');\n",
              "    }\n",
              "    (() => {\n",
              "      let quickchartButtonEl =\n",
              "        document.querySelector('#df-7b261cb9-3c9f-43cb-a1eb-1e0f68c70f98 button');\n",
              "      quickchartButtonEl.style.display =\n",
              "        google.colab.kernel.accessAllowed ? 'block' : 'none';\n",
              "    })();\n",
              "  </script>\n",
              "</div>\n",
              "    </div>\n",
              "  </div>\n"
            ],
            "application/vnd.google.colaboratory.intrinsic+json": {
              "type": "dataframe",
              "variable_name": "test_embed_df"
            }
          },
          "metadata": {},
          "execution_count": 23
        }
      ]
    },
    {
      "cell_type": "markdown",
      "source": [
        "We will now use the model to make predictions on the test embeddings.\n",
        "These predictions will be a vector with the probability that the particukar protein belongs to a specific GO term (i.e. has a particular function)."
      ],
      "metadata": {
        "id": "4jm9xFcWMjPM"
      }
    },
    {
      "cell_type": "code",
      "source": [
        "BP_predictions =  best_BP_model.predict(test_embed_df)\n",
        "MF_predictions =  best_MF_model.predict(test_embed_df)\n",
        "CC_predictions =  best_CC_model.predict(test_embed_df)"
      ],
      "metadata": {
        "id": "HavPJ7MjMqgb",
        "colab": {
          "base_uri": "https://localhost:8080/"
        },
        "outputId": "9a3c9d91-6399-45d7-8690-b494eacd9b3c"
      },
      "execution_count": 24,
      "outputs": [
        {
          "output_type": "stream",
          "name": "stdout",
          "text": [
            "32/32 [==============================] - 0s 3ms/step\n",
            "32/32 [==============================] - 0s 3ms/step\n",
            "32/32 [==============================] - 0s 3ms/step\n"
          ]
        }
      ]
    },
    {
      "cell_type": "code",
      "source": [
        "test_protein_ids = np.loadtxt('/content/biological_data_pfp/test/test_ids.txt', dtype = str)\n"
      ],
      "metadata": {
        "id": "hkfhGUJGO21N"
      },
      "execution_count": 30,
      "outputs": []
    },
    {
      "cell_type": "markdown",
      "source": [
        "### Prediction probabilities for Biological Processes"
      ],
      "metadata": {
        "id": "adJSz-5zOUAx"
      }
    },
    {
      "cell_type": "code",
      "source": [
        "BP_df_preds = pd.DataFrame(columns = ['Protein Id', 'GO Term Id','Prediction'])\n",
        "\n",
        "BP_df_preds['Prediction'] = BP_predictions.ravel()\n",
        "\n",
        "#lst_Protein_IDs = []\n",
        "#for Protein_ID in list(test_protein_ids):\n",
        "#    lst_Protein_IDs += [Protein_ID] * BP_predictions.shape[1]\n",
        "\n",
        "#BP_df_preds['Protein Id'] = lst_Protein_IDs\n",
        "#BP_df_preds['GO Term Id'] = labels * BP_predictions.shape[0]\n",
        "#BP_df_preds.to_csv(\"BioProcesses_Predictions.tsv\",header=False, index=False, sep=\"\\t\")"
      ],
      "metadata": {
        "id": "Q58x9hwabnXX"
      },
      "execution_count": 25,
      "outputs": []
    },
    {
      "cell_type": "markdown",
      "source": [
        "### Prediction probabilities for Molecular Function"
      ],
      "metadata": {
        "id": "ZmxbEKfIVZfn"
      }
    },
    {
      "cell_type": "code",
      "source": [
        "MF_df_preds = pd.DataFrame(columns = ['Protein Id', 'GO Term Id','Prediction'])\n",
        "\n",
        "MF_df_preds['Prediction'] = MF_predictions.ravel()\n",
        "\n",
        "#lst_Protein_IDs = []\n",
        "#for Protein_ID in list(test_protein_ids):\n",
        "#    lst_Protein_IDs += [Protein_ID] * MF_predictions.shape[1]\n",
        "\n",
        "#MF_df_preds['Protein Id'] = lst_Protein_IDs\n",
        "#MF_df_preds['GO Term Id'] = labels * MF_predictions.shape[0]\n",
        "#MF_df_preds.to_csv(\"MolecularFunction_Predictions.tsv\",header=False, index=False, sep=\"\\t\")"
      ],
      "metadata": {
        "id": "r5d_3dfmVZfq"
      },
      "execution_count": 26,
      "outputs": []
    },
    {
      "cell_type": "markdown",
      "source": [
        "### Prediction probabilities for Cellular Component"
      ],
      "metadata": {
        "id": "M1zXMy9iVagQ"
      }
    },
    {
      "cell_type": "code",
      "source": [
        "CC_df_preds = pd.DataFrame(columns = ['Protein Id', 'GO Term Id','Prediction'])\n",
        "\n",
        "CC_df_preds['Prediction'] = CC_predictions.ravel()\n",
        "\n",
        "#lst_Protein_IDs = []\n",
        "#for Protein_ID in list(test_protein_ids):\n",
        "#    lst_Protein_IDs += [Protein_ID] * CC_predictions.shape[1]\n",
        "\n",
        "#CC_df_preds['Protein Id'] = lst_Protein_IDs\n",
        "#CC_df_preds['GO Term Id'] = labels * CC_predictions.shape[0]\n",
        "#CC_df_preds.to_csv(\"CellComponent_Predictions.tsv\",header=False, index=False, sep=\"\\t\")"
      ],
      "metadata": {
        "id": "58aDYv-eVagR"
      },
      "execution_count": 27,
      "outputs": []
    },
    {
      "cell_type": "markdown",
      "source": [
        "### Final Predictions across all Ontologies\n",
        "\n",
        "We take the maximum predicted probability across all the ontologies and use that as our final file for submission."
      ],
      "metadata": {
        "id": "CsacQ3AnVRKh"
      }
    },
    {
      "cell_type": "code",
      "source": [
        "# Compute the element-wise maximum of all three arrays\n",
        "BPpreds = BP_df_preds['Prediction']\n",
        "MFpreds = MF_df_preds['Prediction']\n",
        "CCpreds = CC_df_preds['Prediction']\n",
        "\n",
        "# Compute the element-wise maximum of all three arrays\n",
        "maximum_array = np.maximum(BPpreds, np.maximum(MFpreds, CCpreds))\n",
        "\n",
        "print(maximum_array)"
      ],
      "metadata": {
        "colab": {
          "base_uri": "https://localhost:8080/"
        },
        "id": "ryPaKNlEVkoh",
        "outputId": "9bd7e8d9-8c91-40e7-d42d-fc8330fc604e"
      },
      "execution_count": 28,
      "outputs": [
        {
          "output_type": "stream",
          "name": "stdout",
          "text": [
            "0          1.000000\n",
            "1          0.999995\n",
            "2          1.000000\n",
            "3          0.999326\n",
            "4          0.994463\n",
            "             ...   \n",
            "1499995    0.007875\n",
            "1499996    0.000296\n",
            "1499997    0.000054\n",
            "1499998    0.000047\n",
            "1499999    0.000497\n",
            "Name: Prediction, Length: 1500000, dtype: float32\n"
          ]
        }
      ]
    },
    {
      "cell_type": "code",
      "source": [
        "preds = pd.DataFrame(columns = ['Protein Id', 'GO Term Id','Prediction'])\n",
        "\n",
        "lst_Protein_IDs = []\n",
        "for Protein_ID in list(test_protein_ids):\n",
        "    lst_Protein_IDs += [Protein_ID] * 1500\n",
        "\n",
        "preds['Protein Id'] = lst_Protein_IDs\n",
        "preds['GO Term Id'] = labels * 1000\n",
        "preds['Prediction'] = maximum_array\n",
        "preds.to_csv(\"Predictions.tsv\",header=False, index=False, sep=\"\\t\")"
      ],
      "metadata": {
        "id": "2mz5jmenWp5I"
      },
      "execution_count": 35,
      "outputs": []
    },
    {
      "cell_type": "markdown",
      "source": [
        "### Visualizing Results of Training"
      ],
      "metadata": {
        "id": "wrPgKXzfpW9p"
      }
    },
    {
      "cell_type": "code",
      "source": [
        "import pandas as pd\n",
        "import seaborn as sns\n",
        "import matplotlib.pyplot as plt"
      ],
      "metadata": {
        "id": "eRBbBsne1wij"
      },
      "execution_count": 1,
      "outputs": []
    },
    {
      "cell_type": "code",
      "source": [
        "model_eval = pd.read_csv('/content/model_eval.csv')\n",
        "model_eval"
      ],
      "metadata": {
        "colab": {
          "base_uri": "https://localhost:8080/",
          "height": 520
        },
        "id": "0rKQs4qK1yLJ",
        "outputId": "6f7ca7d4-fc5b-4870-8700-ade1998b1364"
      },
      "execution_count": 6,
      "outputs": [
        {
          "output_type": "execute_result",
          "data": {
            "text/plain": [
              "       Model              Ontology  Accuracy   F1Score\n",
              "0       CNN1  Biological Processes  0.969670  0.446935\n",
              "1   ResNet1D  Biological Processes  0.972293  0.198539\n",
              "2       FNN1  Biological Processes  0.977000  0.464381\n",
              "3       FNN2  Biological Processes  0.976240  0.442575\n",
              "4        MLP  Biological Processes  0.975209  0.366345\n",
              "5       CNN1    Molecular Function  0.975137  0.474770\n",
              "6   ResNet1D    Molecular Function  0.969938  0.236590\n",
              "7       FNN1    Molecular Function  0.977016  0.510177\n",
              "8       FNN2    Molecular Function  0.976459  0.496217\n",
              "9        MLP    Molecular Function  0.972885  0.284472\n",
              "10      CNN1    Cellular Component  0.979937  0.457807\n",
              "11  ResNet1D    Cellular Component  0.977281  0.303208\n",
              "12      FNN1    Cellular Component  0.981174  0.497297\n",
              "13      FNN2    Cellular Component  0.980618  0.496228\n",
              "14       MLP    Cellular Component  0.979966  0.414972"
            ],
            "text/html": [
              "\n",
              "  <div id=\"df-2d06b374-6d66-4317-b134-75ac11ba6f78\" class=\"colab-df-container\">\n",
              "    <div>\n",
              "<style scoped>\n",
              "    .dataframe tbody tr th:only-of-type {\n",
              "        vertical-align: middle;\n",
              "    }\n",
              "\n",
              "    .dataframe tbody tr th {\n",
              "        vertical-align: top;\n",
              "    }\n",
              "\n",
              "    .dataframe thead th {\n",
              "        text-align: right;\n",
              "    }\n",
              "</style>\n",
              "<table border=\"1\" class=\"dataframe\">\n",
              "  <thead>\n",
              "    <tr style=\"text-align: right;\">\n",
              "      <th></th>\n",
              "      <th>Model</th>\n",
              "      <th>Ontology</th>\n",
              "      <th>Accuracy</th>\n",
              "      <th>F1Score</th>\n",
              "    </tr>\n",
              "  </thead>\n",
              "  <tbody>\n",
              "    <tr>\n",
              "      <th>0</th>\n",
              "      <td>CNN1</td>\n",
              "      <td>Biological Processes</td>\n",
              "      <td>0.969670</td>\n",
              "      <td>0.446935</td>\n",
              "    </tr>\n",
              "    <tr>\n",
              "      <th>1</th>\n",
              "      <td>ResNet1D</td>\n",
              "      <td>Biological Processes</td>\n",
              "      <td>0.972293</td>\n",
              "      <td>0.198539</td>\n",
              "    </tr>\n",
              "    <tr>\n",
              "      <th>2</th>\n",
              "      <td>FNN1</td>\n",
              "      <td>Biological Processes</td>\n",
              "      <td>0.977000</td>\n",
              "      <td>0.464381</td>\n",
              "    </tr>\n",
              "    <tr>\n",
              "      <th>3</th>\n",
              "      <td>FNN2</td>\n",
              "      <td>Biological Processes</td>\n",
              "      <td>0.976240</td>\n",
              "      <td>0.442575</td>\n",
              "    </tr>\n",
              "    <tr>\n",
              "      <th>4</th>\n",
              "      <td>MLP</td>\n",
              "      <td>Biological Processes</td>\n",
              "      <td>0.975209</td>\n",
              "      <td>0.366345</td>\n",
              "    </tr>\n",
              "    <tr>\n",
              "      <th>5</th>\n",
              "      <td>CNN1</td>\n",
              "      <td>Molecular Function</td>\n",
              "      <td>0.975137</td>\n",
              "      <td>0.474770</td>\n",
              "    </tr>\n",
              "    <tr>\n",
              "      <th>6</th>\n",
              "      <td>ResNet1D</td>\n",
              "      <td>Molecular Function</td>\n",
              "      <td>0.969938</td>\n",
              "      <td>0.236590</td>\n",
              "    </tr>\n",
              "    <tr>\n",
              "      <th>7</th>\n",
              "      <td>FNN1</td>\n",
              "      <td>Molecular Function</td>\n",
              "      <td>0.977016</td>\n",
              "      <td>0.510177</td>\n",
              "    </tr>\n",
              "    <tr>\n",
              "      <th>8</th>\n",
              "      <td>FNN2</td>\n",
              "      <td>Molecular Function</td>\n",
              "      <td>0.976459</td>\n",
              "      <td>0.496217</td>\n",
              "    </tr>\n",
              "    <tr>\n",
              "      <th>9</th>\n",
              "      <td>MLP</td>\n",
              "      <td>Molecular Function</td>\n",
              "      <td>0.972885</td>\n",
              "      <td>0.284472</td>\n",
              "    </tr>\n",
              "    <tr>\n",
              "      <th>10</th>\n",
              "      <td>CNN1</td>\n",
              "      <td>Cellular Component</td>\n",
              "      <td>0.979937</td>\n",
              "      <td>0.457807</td>\n",
              "    </tr>\n",
              "    <tr>\n",
              "      <th>11</th>\n",
              "      <td>ResNet1D</td>\n",
              "      <td>Cellular Component</td>\n",
              "      <td>0.977281</td>\n",
              "      <td>0.303208</td>\n",
              "    </tr>\n",
              "    <tr>\n",
              "      <th>12</th>\n",
              "      <td>FNN1</td>\n",
              "      <td>Cellular Component</td>\n",
              "      <td>0.981174</td>\n",
              "      <td>0.497297</td>\n",
              "    </tr>\n",
              "    <tr>\n",
              "      <th>13</th>\n",
              "      <td>FNN2</td>\n",
              "      <td>Cellular Component</td>\n",
              "      <td>0.980618</td>\n",
              "      <td>0.496228</td>\n",
              "    </tr>\n",
              "    <tr>\n",
              "      <th>14</th>\n",
              "      <td>MLP</td>\n",
              "      <td>Cellular Component</td>\n",
              "      <td>0.979966</td>\n",
              "      <td>0.414972</td>\n",
              "    </tr>\n",
              "  </tbody>\n",
              "</table>\n",
              "</div>\n",
              "    <div class=\"colab-df-buttons\">\n",
              "\n",
              "  <div class=\"colab-df-container\">\n",
              "    <button class=\"colab-df-convert\" onclick=\"convertToInteractive('df-2d06b374-6d66-4317-b134-75ac11ba6f78')\"\n",
              "            title=\"Convert this dataframe to an interactive table.\"\n",
              "            style=\"display:none;\">\n",
              "\n",
              "  <svg xmlns=\"http://www.w3.org/2000/svg\" height=\"24px\" viewBox=\"0 -960 960 960\">\n",
              "    <path d=\"M120-120v-720h720v720H120Zm60-500h600v-160H180v160Zm220 220h160v-160H400v160Zm0 220h160v-160H400v160ZM180-400h160v-160H180v160Zm440 0h160v-160H620v160ZM180-180h160v-160H180v160Zm440 0h160v-160H620v160Z\"/>\n",
              "  </svg>\n",
              "    </button>\n",
              "\n",
              "  <style>\n",
              "    .colab-df-container {\n",
              "      display:flex;\n",
              "      gap: 12px;\n",
              "    }\n",
              "\n",
              "    .colab-df-convert {\n",
              "      background-color: #E8F0FE;\n",
              "      border: none;\n",
              "      border-radius: 50%;\n",
              "      cursor: pointer;\n",
              "      display: none;\n",
              "      fill: #1967D2;\n",
              "      height: 32px;\n",
              "      padding: 0 0 0 0;\n",
              "      width: 32px;\n",
              "    }\n",
              "\n",
              "    .colab-df-convert:hover {\n",
              "      background-color: #E2EBFA;\n",
              "      box-shadow: 0px 1px 2px rgba(60, 64, 67, 0.3), 0px 1px 3px 1px rgba(60, 64, 67, 0.15);\n",
              "      fill: #174EA6;\n",
              "    }\n",
              "\n",
              "    .colab-df-buttons div {\n",
              "      margin-bottom: 4px;\n",
              "    }\n",
              "\n",
              "    [theme=dark] .colab-df-convert {\n",
              "      background-color: #3B4455;\n",
              "      fill: #D2E3FC;\n",
              "    }\n",
              "\n",
              "    [theme=dark] .colab-df-convert:hover {\n",
              "      background-color: #434B5C;\n",
              "      box-shadow: 0px 1px 3px 1px rgba(0, 0, 0, 0.15);\n",
              "      filter: drop-shadow(0px 1px 2px rgba(0, 0, 0, 0.3));\n",
              "      fill: #FFFFFF;\n",
              "    }\n",
              "  </style>\n",
              "\n",
              "    <script>\n",
              "      const buttonEl =\n",
              "        document.querySelector('#df-2d06b374-6d66-4317-b134-75ac11ba6f78 button.colab-df-convert');\n",
              "      buttonEl.style.display =\n",
              "        google.colab.kernel.accessAllowed ? 'block' : 'none';\n",
              "\n",
              "      async function convertToInteractive(key) {\n",
              "        const element = document.querySelector('#df-2d06b374-6d66-4317-b134-75ac11ba6f78');\n",
              "        const dataTable =\n",
              "          await google.colab.kernel.invokeFunction('convertToInteractive',\n",
              "                                                    [key], {});\n",
              "        if (!dataTable) return;\n",
              "\n",
              "        const docLinkHtml = 'Like what you see? Visit the ' +\n",
              "          '<a target=\"_blank\" href=https://colab.research.google.com/notebooks/data_table.ipynb>data table notebook</a>'\n",
              "          + ' to learn more about interactive tables.';\n",
              "        element.innerHTML = '';\n",
              "        dataTable['output_type'] = 'display_data';\n",
              "        await google.colab.output.renderOutput(dataTable, element);\n",
              "        const docLink = document.createElement('div');\n",
              "        docLink.innerHTML = docLinkHtml;\n",
              "        element.appendChild(docLink);\n",
              "      }\n",
              "    </script>\n",
              "  </div>\n",
              "\n",
              "\n",
              "<div id=\"df-86ccf511-8ef3-4b8a-a53f-ec176ae1a096\">\n",
              "  <button class=\"colab-df-quickchart\" onclick=\"quickchart('df-86ccf511-8ef3-4b8a-a53f-ec176ae1a096')\"\n",
              "            title=\"Suggest charts\"\n",
              "            style=\"display:none;\">\n",
              "\n",
              "<svg xmlns=\"http://www.w3.org/2000/svg\" height=\"24px\"viewBox=\"0 0 24 24\"\n",
              "     width=\"24px\">\n",
              "    <g>\n",
              "        <path d=\"M19 3H5c-1.1 0-2 .9-2 2v14c0 1.1.9 2 2 2h14c1.1 0 2-.9 2-2V5c0-1.1-.9-2-2-2zM9 17H7v-7h2v7zm4 0h-2V7h2v10zm4 0h-2v-4h2v4z\"/>\n",
              "    </g>\n",
              "</svg>\n",
              "  </button>\n",
              "\n",
              "<style>\n",
              "  .colab-df-quickchart {\n",
              "      --bg-color: #E8F0FE;\n",
              "      --fill-color: #1967D2;\n",
              "      --hover-bg-color: #E2EBFA;\n",
              "      --hover-fill-color: #174EA6;\n",
              "      --disabled-fill-color: #AAA;\n",
              "      --disabled-bg-color: #DDD;\n",
              "  }\n",
              "\n",
              "  [theme=dark] .colab-df-quickchart {\n",
              "      --bg-color: #3B4455;\n",
              "      --fill-color: #D2E3FC;\n",
              "      --hover-bg-color: #434B5C;\n",
              "      --hover-fill-color: #FFFFFF;\n",
              "      --disabled-bg-color: #3B4455;\n",
              "      --disabled-fill-color: #666;\n",
              "  }\n",
              "\n",
              "  .colab-df-quickchart {\n",
              "    background-color: var(--bg-color);\n",
              "    border: none;\n",
              "    border-radius: 50%;\n",
              "    cursor: pointer;\n",
              "    display: none;\n",
              "    fill: var(--fill-color);\n",
              "    height: 32px;\n",
              "    padding: 0;\n",
              "    width: 32px;\n",
              "  }\n",
              "\n",
              "  .colab-df-quickchart:hover {\n",
              "    background-color: var(--hover-bg-color);\n",
              "    box-shadow: 0 1px 2px rgba(60, 64, 67, 0.3), 0 1px 3px 1px rgba(60, 64, 67, 0.15);\n",
              "    fill: var(--button-hover-fill-color);\n",
              "  }\n",
              "\n",
              "  .colab-df-quickchart-complete:disabled,\n",
              "  .colab-df-quickchart-complete:disabled:hover {\n",
              "    background-color: var(--disabled-bg-color);\n",
              "    fill: var(--disabled-fill-color);\n",
              "    box-shadow: none;\n",
              "  }\n",
              "\n",
              "  .colab-df-spinner {\n",
              "    border: 2px solid var(--fill-color);\n",
              "    border-color: transparent;\n",
              "    border-bottom-color: var(--fill-color);\n",
              "    animation:\n",
              "      spin 1s steps(1) infinite;\n",
              "  }\n",
              "\n",
              "  @keyframes spin {\n",
              "    0% {\n",
              "      border-color: transparent;\n",
              "      border-bottom-color: var(--fill-color);\n",
              "      border-left-color: var(--fill-color);\n",
              "    }\n",
              "    20% {\n",
              "      border-color: transparent;\n",
              "      border-left-color: var(--fill-color);\n",
              "      border-top-color: var(--fill-color);\n",
              "    }\n",
              "    30% {\n",
              "      border-color: transparent;\n",
              "      border-left-color: var(--fill-color);\n",
              "      border-top-color: var(--fill-color);\n",
              "      border-right-color: var(--fill-color);\n",
              "    }\n",
              "    40% {\n",
              "      border-color: transparent;\n",
              "      border-right-color: var(--fill-color);\n",
              "      border-top-color: var(--fill-color);\n",
              "    }\n",
              "    60% {\n",
              "      border-color: transparent;\n",
              "      border-right-color: var(--fill-color);\n",
              "    }\n",
              "    80% {\n",
              "      border-color: transparent;\n",
              "      border-right-color: var(--fill-color);\n",
              "      border-bottom-color: var(--fill-color);\n",
              "    }\n",
              "    90% {\n",
              "      border-color: transparent;\n",
              "      border-bottom-color: var(--fill-color);\n",
              "    }\n",
              "  }\n",
              "</style>\n",
              "\n",
              "  <script>\n",
              "    async function quickchart(key) {\n",
              "      const quickchartButtonEl =\n",
              "        document.querySelector('#' + key + ' button');\n",
              "      quickchartButtonEl.disabled = true;  // To prevent multiple clicks.\n",
              "      quickchartButtonEl.classList.add('colab-df-spinner');\n",
              "      try {\n",
              "        const charts = await google.colab.kernel.invokeFunction(\n",
              "            'suggestCharts', [key], {});\n",
              "      } catch (error) {\n",
              "        console.error('Error during call to suggestCharts:', error);\n",
              "      }\n",
              "      quickchartButtonEl.classList.remove('colab-df-spinner');\n",
              "      quickchartButtonEl.classList.add('colab-df-quickchart-complete');\n",
              "    }\n",
              "    (() => {\n",
              "      let quickchartButtonEl =\n",
              "        document.querySelector('#df-86ccf511-8ef3-4b8a-a53f-ec176ae1a096 button');\n",
              "      quickchartButtonEl.style.display =\n",
              "        google.colab.kernel.accessAllowed ? 'block' : 'none';\n",
              "    })();\n",
              "  </script>\n",
              "</div>\n",
              "    </div>\n",
              "  </div>\n"
            ],
            "application/vnd.google.colaboratory.intrinsic+json": {
              "type": "dataframe",
              "variable_name": "model_eval",
              "summary": "{\n  \"name\": \"model_eval\",\n  \"rows\": 15,\n  \"fields\": [\n    {\n      \"column\": \"Model\",\n      \"properties\": {\n        \"dtype\": \"category\",\n        \"num_unique_values\": 5,\n        \"samples\": [\n          \"ResNet1D\",\n          \"MLP\",\n          \"FNN1\"\n        ],\n        \"semantic_type\": \"\",\n        \"description\": \"\"\n      }\n    },\n    {\n      \"column\": \"Ontology\",\n      \"properties\": {\n        \"dtype\": \"category\",\n        \"num_unique_values\": 3,\n        \"samples\": [\n          \"Biological Processes\",\n          \"Molecular Function\",\n          \"Cellular Component\"\n        ],\n        \"semantic_type\": \"\",\n        \"description\": \"\"\n      }\n    },\n    {\n      \"column\": \"Accuracy\",\n      \"properties\": {\n        \"dtype\": \"number\",\n        \"std\": 0.0036336126483598684,\n        \"min\": 0.969669759,\n        \"max\": 0.981174052,\n        \"num_unique_values\": 15,\n        \"samples\": [\n          0.972885489,\n          0.977280974,\n          0.969669759\n        ],\n        \"semantic_type\": \"\",\n        \"description\": \"\"\n      }\n    },\n    {\n      \"column\": \"F1Score\",\n      \"properties\": {\n        \"dtype\": \"number\",\n        \"std\": 0.10282823664253789,\n        \"min\": 0.1985394,\n        \"max\": 0.510177016,\n        \"num_unique_values\": 15,\n        \"samples\": [\n          0.284471974,\n          0.303207578,\n          0.446934852\n        ],\n        \"semantic_type\": \"\",\n        \"description\": \"\"\n      }\n    }\n  ]\n}"
            }
          },
          "metadata": {},
          "execution_count": 6
        }
      ]
    },
    {
      "cell_type": "code",
      "source": [
        "# Map indices to marker styles\n",
        "marker_styles = {'FNN1': 'X', 'FNN2': 's', 'MLP': 'o', 'CNN1': '^', 'ResNet1D': 'P'}\n",
        "\n",
        "# Map categories to colors\n",
        "colors = sns.color_palette(\"hls\", 5)\n",
        "category_colors = {'Biological Processes': 'b', 'Molecular Function': 'g', 'Cellular Component': 'r'}\n",
        "\n",
        "# Plot the scatterplot\n",
        "sns.scatterplot(data=model_eval, x='Accuracy', y='F1Score', hue='Ontology', style='Model', palette=category_colors,\n",
        "                markers=marker_styles, s=100)\n",
        "\n",
        "plt.xlabel('Accuracy')\n",
        "plt.ylabel('F1 score')\n",
        "plt.title('Accuracy vs. F1 score')\n",
        "\n",
        "plt.legend(bbox_to_anchor=(1.05, 1), loc='upper left')\n",
        "plt.savefig('Accuracy vs F1 Score', bbox_inches='tight')\n",
        "plt.show()"
      ],
      "metadata": {
        "colab": {
          "base_uri": "https://localhost:8080/",
          "height": 389
        },
        "id": "DaetXcmesw78",
        "outputId": "d9ac2f37-04a9-4d5c-e887-d77af09f9c77"
      },
      "execution_count": 7,
      "outputs": [
        {
          "output_type": "display_data",
          "data": {
            "text/plain": [
              "<Figure size 640x480 with 1 Axes>"
            ],
            "image/png": "[encoded data removed]"
          },
          "metadata": {}
        }
      ]
    }
  ]
}