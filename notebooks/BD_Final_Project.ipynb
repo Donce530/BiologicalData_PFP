{
  "nbformat": 4,
  "nbformat_minor": 0,
  "metadata": {
    "colab": {
      "provenance": []
    },
    "kernelspec": {
      "name": "python3",
      "display_name": "Python 3"
    },
    "language_info": {
      "name": "python"
    }
  },
  "cells": [
    {
      "cell_type": "markdown",
      "source": [
        "# Biological Data Final Project\n",
        "\n",
        "This notebook tests multiple models for predicting the function of proteins. The objective is to try different models for each of the 3 Gene Ontologies (Cellular Component, Molecular Function, Biological Processes), and choose the model which performs the best in predicting the function, i.e. GO term ID. Models are evaluated based on precision, accuracy, and F1 score."
      ],
      "metadata": {
        "id": "c4zxiGREOo_w"
      }
    },
    {
      "cell_type": "markdown",
      "source": [
        "## The Data\n",
        "\n",
        "Training data contains these files:\n",
        "*   train_set.tsv : The proteins, their Gene Ontology (GO) annotations and their corresponding aspects are given to you in a tab separated file. The GO annotations that are given for each protein are already propagated to the root of ontology.\n",
        "*   train_ids.txt: This file contains the accession IDs of the proteins that are given to you. It contains about 123k proteins. You may use all or a subset of them in the training.\n",
        "*   train.fasta: This file contains the sequence of the train proteins in fasta format.\n",
        "*   train_embeddings.h5 : This file contains ProtT5 embeddings for each protein in the train set.\n",
        "\n",
        "Note: there are about 123,969 proteins in the training set, thus depending on the models chosen for testing only a subset of the data may be used as it may be hard on computational resources."
      ],
      "metadata": {
        "id": "gA9TW3vTP4RF"
      }
    },
    {
      "cell_type": "markdown",
      "source": [
        "## Importing Required Libraries"
      ],
      "metadata": {
        "id": "M4e48pvyRBKD"
      }
    },
    {
      "cell_type": "code",
      "source": [
        "!pip install h5py"
      ],
      "metadata": {
        "id": "5SIzvI6oh1Ge"
      },
      "execution_count": null,
      "outputs": []
    },
    {
      "cell_type": "code",
      "execution_count": null,
      "metadata": {
        "id": "INY5-pvaEKak"
      },
      "outputs": [],
      "source": [
        "import tensorflow as tf\n",
        "import pandas as pd\n",
        "import numpy as np\n",
        "import h5py\n",
        "import seaborn as sns\n",
        "import matplotlib.pyplot as plt\n",
        "from sklearn.model_selection import KFold"
      ]
    },
    {
      "cell_type": "code",
      "source": [
        "print(\"TensorFlow v\" + tf.__version__)\n",
        "print(\"Numpy v\" + np.__version__)"
      ],
      "metadata": {
        "id": "FQzydhXnRN-w",
        "colab": {
          "base_uri": "https://localhost:8080/"
        },
        "outputId": "454349fb-ad51-4db8-873d-392d42084178"
      },
      "execution_count": null,
      "outputs": [
        {
          "output_type": "stream",
          "name": "stdout",
          "text": [
            "TensorFlow v2.15.0\n",
            "Numpy v1.25.2\n"
          ]
        }
      ]
    },
    {
      "cell_type": "code",
      "source": [
        "from google.colab import drive\n",
        "drive.mount('/content/drive/')"
      ],
      "metadata": {
        "id": "EHNRK5u9RRIt",
        "colab": {
          "base_uri": "https://localhost:8080/"
        },
        "outputId": "ff341e35-bf31-4f80-d7eb-322966cb19b8"
      },
      "execution_count": null,
      "outputs": [
        {
          "output_type": "stream",
          "name": "stdout",
          "text": [
            "Mounted at /content/drive/\n"
          ]
        }
      ]
    },
    {
      "cell_type": "code",
      "source": [
        "#%%capture\n",
        "!unzip '/content/drive/MyDrive/ColabNotebooks/BiologicalData/Final_Project/biological_data_pfp.zip'"
      ],
      "metadata": {
        "id": "Dz1LtwZFRRzw",
        "colab": {
          "base_uri": "https://localhost:8080/"
        },
        "outputId": "9b14eaac-c311-4060-bc36-abfe3631c4db"
      },
      "execution_count": null,
      "outputs": [
        {
          "output_type": "stream",
          "name": "stdout",
          "text": [
            "Archive:  /content/drive/MyDrive/ColabNotebooks/BiologicalData/Final_Project/biological_data_pfp.zip\n",
            "   creating: biological_data_pfp/\n",
            "   creating: biological_data_pfp/train/\n",
            "  inflating: biological_data_pfp/train/train_set.tsv  \n",
            "  inflating: biological_data_pfp/train/train.fasta  \n",
            "  inflating: biological_data_pfp/train/train_embeddings.h5  \n",
            "  inflating: biological_data_pfp/train/train_protein2ipr.dat  \n",
            "  inflating: biological_data_pfp/train/train_ids.txt  \n",
            "  inflating: biological_data_pfp/train/go-basic.obo  \n",
            "   creating: biological_data_pfp/test/\n",
            "  inflating: biological_data_pfp/test/test_embeddings.h5  \n",
            "  inflating: biological_data_pfp/test/test_ids.txt  \n",
            "  inflating: biological_data_pfp/test/blast_test_results.tsv  \n",
            "  inflating: biological_data_pfp/test/test_protein2ipr.dat  \n",
            "  inflating: biological_data_pfp/test/test.fasta  \n",
            "   creating: biological_data_pfp/baseline/\n",
            "   creating: biological_data_pfp/baseline/baseline_preds/\n",
            "  inflating: biological_data_pfp/baseline/baseline_preds/ipr_submission.tsv  \n",
            "  inflating: biological_data_pfp/baseline/baseline_preds/naive_submission.tsv  \n",
            "   creating: biological_data_pfp/baseline/baseline_results/\n",
            "  inflating: biological_data_pfp/baseline/baseline_results/evaluation_all.tsv  \n",
            "  inflating: biological_data_pfp/baseline/baseline_results/evaluation_best_f.tsv  \n",
            "  inflating: biological_data_pfp/baseline/baseline_results/fig_f.tsv  \n",
            "  inflating: biological_data_pfp/baseline/baseline_results/fig_f_biological_process.png  \n",
            "  inflating: biological_data_pfp/baseline/baseline_results/fig_f_cellular_component.png  \n",
            "  inflating: biological_data_pfp/baseline/baseline_results/fig_f_molecular_function.png  \n",
            "  inflating: biological_data_pfp/baseline/Naive_baseline.ipynb  \n",
            "  inflating: biological_data_pfp/baseline/InterPro_baseline.ipynb  \n"
          ]
        }
      ]
    },
    {
      "cell_type": "markdown",
      "source": [
        "## Loading protein terms\n",
        "\n",
        "First we will load the file `train_terms.tsv` which contains the list of annotated terms (functions) for the proteins. We will extract the labels aka `GO term ID` and create a label dataframe for the protein embeddings."
      ],
      "metadata": {
        "id": "BdNKXQUvSbGk"
      }
    },
    {
      "cell_type": "code",
      "execution_count": null,
      "metadata": {
        "execution": {
          "iopub.execute_input": "2023-05-23T11:09:03.762160Z",
          "iopub.status.busy": "2023-05-23T11:09:03.761453Z",
          "iopub.status.idle": "2023-05-23T11:09:07.894965Z",
          "shell.execute_reply": "2023-05-23T11:09:07.893429Z"
        },
        "papermill": {
          "duration": 4.151072,
          "end_time": "2023-05-23T11:09:07.897636",
          "exception": false,
          "start_time": "2023-05-23T11:09:03.746564",
          "status": "completed"
        },
        "tags": [],
        "colab": {
          "base_uri": "https://localhost:8080/"
        },
        "id": "c18e6f37",
        "outputId": "559df135-a543-44ed-c4d0-ffb6ddc248de"
      },
      "outputs": [
        {
          "output_type": "stream",
          "name": "stdout",
          "text": [
            "(4277047, 3)\n"
          ]
        }
      ],
      "source": [
        "train_terms = pd.read_csv(\"/content/biological_data_pfp/train/train_set.tsv\",sep=\"\\t\")\n",
        "print(train_terms.shape)"
      ]
    },
    {
      "cell_type": "markdown",
      "metadata": {
        "papermill": {
          "duration": 0.013524,
          "end_time": "2023-05-23T11:09:07.924979",
          "exception": false,
          "start_time": "2023-05-23T11:09:07.911455",
          "status": "completed"
        },
        "tags": [],
        "id": "4950bfb9"
      },
      "source": [
        "`train_terms` dataframe is composed of 3 columns (Protein_ID, aspect, GO_term) and 4,277,047 entries.\n",
        "\n",
        "We can inspect the dataset by printing out the first 5 entries of the dataframe. The first entry of `train_terms.tsv`, has protein id `P91124`, aspect `cellular_component` and the GO term `GO:0005575`. We also notice that the next 4 entries are the same protein with the same aspect but different GO terms, thus it is clear that one protein can have many function labels."
      ]
    },
    {
      "cell_type": "code",
      "execution_count": null,
      "metadata": {
        "execution": {
          "iopub.execute_input": "2023-05-23T11:09:07.955426Z",
          "iopub.status.busy": "2023-05-23T11:09:07.954997Z",
          "iopub.status.idle": "2023-05-23T11:09:07.984687Z",
          "shell.execute_reply": "2023-05-23T11:09:07.983492Z"
        },
        "papermill": {
          "duration": 0.048255,
          "end_time": "2023-05-23T11:09:07.987318",
          "exception": false,
          "start_time": "2023-05-23T11:09:07.939063",
          "status": "completed"
        },
        "tags": [],
        "colab": {
          "base_uri": "https://localhost:8080/",
          "height": 206
        },
        "id": "fca32138",
        "outputId": "692fbb4e-3761-4577-e677-743aabfee975"
      },
      "outputs": [
        {
          "output_type": "execute_result",
          "data": {
            "text/plain": [
              "  Protein_ID              aspect     GO_term\n",
              "0     P91124  cellular_component  GO:0005575\n",
              "1     P91124  cellular_component  GO:0110165\n",
              "2     P91124  cellular_component  GO:0005737\n",
              "3     P91124  cellular_component  GO:0005622\n",
              "4     P91124  cellular_component  GO:0043226"
            ],
            "text/html": [
              "\n",
              "  <div id=\"df-4e51f6da-5dd4-4f34-a392-521bdbe3676e\" class=\"colab-df-container\">\n",
              "    <div>\n",
              "<style scoped>\n",
              "    .dataframe tbody tr th:only-of-type {\n",
              "        vertical-align: middle;\n",
              "    }\n",
              "\n",
              "    .dataframe tbody tr th {\n",
              "        vertical-align: top;\n",
              "    }\n",
              "\n",
              "    .dataframe thead th {\n",
              "        text-align: right;\n",
              "    }\n",
              "</style>\n",
              "<table border=\"1\" class=\"dataframe\">\n",
              "  <thead>\n",
              "    <tr style=\"text-align: right;\">\n",
              "      <th></th>\n",
              "      <th>Protein_ID</th>\n",
              "      <th>aspect</th>\n",
              "      <th>GO_term</th>\n",
              "    </tr>\n",
              "  </thead>\n",
              "  <tbody>\n",
              "    <tr>\n",
              "      <th>0</th>\n",
              "      <td>P91124</td>\n",
              "      <td>cellular_component</td>\n",
              "      <td>GO:0005575</td>\n",
              "    </tr>\n",
              "    <tr>\n",
              "      <th>1</th>\n",
              "      <td>P91124</td>\n",
              "      <td>cellular_component</td>\n",
              "      <td>GO:0110165</td>\n",
              "    </tr>\n",
              "    <tr>\n",
              "      <th>2</th>\n",
              "      <td>P91124</td>\n",
              "      <td>cellular_component</td>\n",
              "      <td>GO:0005737</td>\n",
              "    </tr>\n",
              "    <tr>\n",
              "      <th>3</th>\n",
              "      <td>P91124</td>\n",
              "      <td>cellular_component</td>\n",
              "      <td>GO:0005622</td>\n",
              "    </tr>\n",
              "    <tr>\n",
              "      <th>4</th>\n",
              "      <td>P91124</td>\n",
              "      <td>cellular_component</td>\n",
              "      <td>GO:0043226</td>\n",
              "    </tr>\n",
              "  </tbody>\n",
              "</table>\n",
              "</div>\n",
              "    <div class=\"colab-df-buttons\">\n",
              "\n",
              "  <div class=\"colab-df-container\">\n",
              "    <button class=\"colab-df-convert\" onclick=\"convertToInteractive('df-4e51f6da-5dd4-4f34-a392-521bdbe3676e')\"\n",
              "            title=\"Convert this dataframe to an interactive table.\"\n",
              "            style=\"display:none;\">\n",
              "\n",
              "  <svg xmlns=\"http://www.w3.org/2000/svg\" height=\"24px\" viewBox=\"0 -960 960 960\">\n",
              "    <path d=\"M120-120v-720h720v720H120Zm60-500h600v-160H180v160Zm220 220h160v-160H400v160Zm0 220h160v-160H400v160ZM180-400h160v-160H180v160Zm440 0h160v-160H620v160ZM180-180h160v-160H180v160Zm440 0h160v-160H620v160Z\"/>\n",
              "  </svg>\n",
              "    </button>\n",
              "\n",
              "  <style>\n",
              "    .colab-df-container {\n",
              "      display:flex;\n",
              "      gap: 12px;\n",
              "    }\n",
              "\n",
              "    .colab-df-convert {\n",
              "      background-color: #E8F0FE;\n",
              "      border: none;\n",
              "      border-radius: 50%;\n",
              "      cursor: pointer;\n",
              "      display: none;\n",
              "      fill: #1967D2;\n",
              "      height: 32px;\n",
              "      padding: 0 0 0 0;\n",
              "      width: 32px;\n",
              "    }\n",
              "\n",
              "    .colab-df-convert:hover {\n",
              "      background-color: #E2EBFA;\n",
              "      box-shadow: 0px 1px 2px rgba(60, 64, 67, 0.3), 0px 1px 3px 1px rgba(60, 64, 67, 0.15);\n",
              "      fill: #174EA6;\n",
              "    }\n",
              "\n",
              "    .colab-df-buttons div {\n",
              "      margin-bottom: 4px;\n",
              "    }\n",
              "\n",
              "    [theme=dark] .colab-df-convert {\n",
              "      background-color: #3B4455;\n",
              "      fill: #D2E3FC;\n",
              "    }\n",
              "\n",
              "    [theme=dark] .colab-df-convert:hover {\n",
              "      background-color: #434B5C;\n",
              "      box-shadow: 0px 1px 3px 1px rgba(0, 0, 0, 0.15);\n",
              "      filter: drop-shadow(0px 1px 2px rgba(0, 0, 0, 0.3));\n",
              "      fill: #FFFFFF;\n",
              "    }\n",
              "  </style>\n",
              "\n",
              "    <script>\n",
              "      const buttonEl =\n",
              "        document.querySelector('#df-4e51f6da-5dd4-4f34-a392-521bdbe3676e button.colab-df-convert');\n",
              "      buttonEl.style.display =\n",
              "        google.colab.kernel.accessAllowed ? 'block' : 'none';\n",
              "\n",
              "      async function convertToInteractive(key) {\n",
              "        const element = document.querySelector('#df-4e51f6da-5dd4-4f34-a392-521bdbe3676e');\n",
              "        const dataTable =\n",
              "          await google.colab.kernel.invokeFunction('convertToInteractive',\n",
              "                                                    [key], {});\n",
              "        if (!dataTable) return;\n",
              "\n",
              "        const docLinkHtml = 'Like what you see? Visit the ' +\n",
              "          '<a target=\"_blank\" href=https://colab.research.google.com/notebooks/data_table.ipynb>data table notebook</a>'\n",
              "          + ' to learn more about interactive tables.';\n",
              "        element.innerHTML = '';\n",
              "        dataTable['output_type'] = 'display_data';\n",
              "        await google.colab.output.renderOutput(dataTable, element);\n",
              "        const docLink = document.createElement('div');\n",
              "        docLink.innerHTML = docLinkHtml;\n",
              "        element.appendChild(docLink);\n",
              "      }\n",
              "    </script>\n",
              "  </div>\n",
              "\n",
              "\n",
              "<div id=\"df-b9c0611a-b0d8-4435-a8dc-5d823c2d87c1\">\n",
              "  <button class=\"colab-df-quickchart\" onclick=\"quickchart('df-b9c0611a-b0d8-4435-a8dc-5d823c2d87c1')\"\n",
              "            title=\"Suggest charts\"\n",
              "            style=\"display:none;\">\n",
              "\n",
              "<svg xmlns=\"http://www.w3.org/2000/svg\" height=\"24px\"viewBox=\"0 0 24 24\"\n",
              "     width=\"24px\">\n",
              "    <g>\n",
              "        <path d=\"M19 3H5c-1.1 0-2 .9-2 2v14c0 1.1.9 2 2 2h14c1.1 0 2-.9 2-2V5c0-1.1-.9-2-2-2zM9 17H7v-7h2v7zm4 0h-2V7h2v10zm4 0h-2v-4h2v4z\"/>\n",
              "    </g>\n",
              "</svg>\n",
              "  </button>\n",
              "\n",
              "<style>\n",
              "  .colab-df-quickchart {\n",
              "      --bg-color: #E8F0FE;\n",
              "      --fill-color: #1967D2;\n",
              "      --hover-bg-color: #E2EBFA;\n",
              "      --hover-fill-color: #174EA6;\n",
              "      --disabled-fill-color: #AAA;\n",
              "      --disabled-bg-color: #DDD;\n",
              "  }\n",
              "\n",
              "  [theme=dark] .colab-df-quickchart {\n",
              "      --bg-color: #3B4455;\n",
              "      --fill-color: #D2E3FC;\n",
              "      --hover-bg-color: #434B5C;\n",
              "      --hover-fill-color: #FFFFFF;\n",
              "      --disabled-bg-color: #3B4455;\n",
              "      --disabled-fill-color: #666;\n",
              "  }\n",
              "\n",
              "  .colab-df-quickchart {\n",
              "    background-color: var(--bg-color);\n",
              "    border: none;\n",
              "    border-radius: 50%;\n",
              "    cursor: pointer;\n",
              "    display: none;\n",
              "    fill: var(--fill-color);\n",
              "    height: 32px;\n",
              "    padding: 0;\n",
              "    width: 32px;\n",
              "  }\n",
              "\n",
              "  .colab-df-quickchart:hover {\n",
              "    background-color: var(--hover-bg-color);\n",
              "    box-shadow: 0 1px 2px rgba(60, 64, 67, 0.3), 0 1px 3px 1px rgba(60, 64, 67, 0.15);\n",
              "    fill: var(--button-hover-fill-color);\n",
              "  }\n",
              "\n",
              "  .colab-df-quickchart-complete:disabled,\n",
              "  .colab-df-quickchart-complete:disabled:hover {\n",
              "    background-color: var(--disabled-bg-color);\n",
              "    fill: var(--disabled-fill-color);\n",
              "    box-shadow: none;\n",
              "  }\n",
              "\n",
              "  .colab-df-spinner {\n",
              "    border: 2px solid var(--fill-color);\n",
              "    border-color: transparent;\n",
              "    border-bottom-color: var(--fill-color);\n",
              "    animation:\n",
              "      spin 1s steps(1) infinite;\n",
              "  }\n",
              "\n",
              "  @keyframes spin {\n",
              "    0% {\n",
              "      border-color: transparent;\n",
              "      border-bottom-color: var(--fill-color);\n",
              "      border-left-color: var(--fill-color);\n",
              "    }\n",
              "    20% {\n",
              "      border-color: transparent;\n",
              "      border-left-color: var(--fill-color);\n",
              "      border-top-color: var(--fill-color);\n",
              "    }\n",
              "    30% {\n",
              "      border-color: transparent;\n",
              "      border-left-color: var(--fill-color);\n",
              "      border-top-color: var(--fill-color);\n",
              "      border-right-color: var(--fill-color);\n",
              "    }\n",
              "    40% {\n",
              "      border-color: transparent;\n",
              "      border-right-color: var(--fill-color);\n",
              "      border-top-color: var(--fill-color);\n",
              "    }\n",
              "    60% {\n",
              "      border-color: transparent;\n",
              "      border-right-color: var(--fill-color);\n",
              "    }\n",
              "    80% {\n",
              "      border-color: transparent;\n",
              "      border-right-color: var(--fill-color);\n",
              "      border-bottom-color: var(--fill-color);\n",
              "    }\n",
              "    90% {\n",
              "      border-color: transparent;\n",
              "      border-bottom-color: var(--fill-color);\n",
              "    }\n",
              "  }\n",
              "</style>\n",
              "\n",
              "  <script>\n",
              "    async function quickchart(key) {\n",
              "      const quickchartButtonEl =\n",
              "        document.querySelector('#' + key + ' button');\n",
              "      quickchartButtonEl.disabled = true;  // To prevent multiple clicks.\n",
              "      quickchartButtonEl.classList.add('colab-df-spinner');\n",
              "      try {\n",
              "        const charts = await google.colab.kernel.invokeFunction(\n",
              "            'suggestCharts', [key], {});\n",
              "      } catch (error) {\n",
              "        console.error('Error during call to suggestCharts:', error);\n",
              "      }\n",
              "      quickchartButtonEl.classList.remove('colab-df-spinner');\n",
              "      quickchartButtonEl.classList.add('colab-df-quickchart-complete');\n",
              "    }\n",
              "    (() => {\n",
              "      let quickchartButtonEl =\n",
              "        document.querySelector('#df-b9c0611a-b0d8-4435-a8dc-5d823c2d87c1 button');\n",
              "      quickchartButtonEl.style.display =\n",
              "        google.colab.kernel.accessAllowed ? 'block' : 'none';\n",
              "    })();\n",
              "  </script>\n",
              "</div>\n",
              "    </div>\n",
              "  </div>\n"
            ]
          },
          "metadata": {},
          "execution_count": 6
        }
      ],
      "source": [
        "train_terms.head()"
      ]
    },
    {
      "cell_type": "markdown",
      "source": [
        "## Visualizing the Data\n",
        "\n",
        "Let's plot the most frequent 100 `GO Term ID`s in `train_terms.tsv`."
      ],
      "metadata": {
        "id": "Vm48v9woUQZW"
      }
    },
    {
      "cell_type": "code",
      "source": [
        "len(train_terms['GO_term'].unique())"
      ],
      "metadata": {
        "colab": {
          "base_uri": "https://localhost:8080/"
        },
        "id": "Qj7N8W7YRkuc",
        "outputId": "5c895f00-de95-451b-89f3-59ba167da9e9"
      },
      "execution_count": null,
      "outputs": [
        {
          "output_type": "execute_result",
          "data": {
            "text/plain": [
              "3004"
            ]
          },
          "metadata": {},
          "execution_count": 7
        }
      ]
    },
    {
      "cell_type": "code",
      "execution_count": null,
      "metadata": {
        "execution": {
          "iopub.execute_input": "2023-05-23T11:09:19.729599Z",
          "iopub.status.busy": "2023-05-23T11:09:19.729155Z",
          "iopub.status.idle": "2023-05-23T11:09:22.055608Z",
          "shell.execute_reply": "2023-05-23T11:09:22.054486Z"
        },
        "papermill": {
          "duration": 2.346564,
          "end_time": "2023-05-23T11:09:22.058321",
          "exception": false,
          "start_time": "2023-05-23T11:09:19.711757",
          "status": "completed"
        },
        "tags": [],
        "colab": {
          "base_uri": "https://localhost:8080/",
          "height": 572
        },
        "id": "71bfc7ab",
        "outputId": "03737c84-a0c7-4deb-9a6e-b14775c220c5"
      },
      "outputs": [
        {
          "output_type": "stream",
          "name": "stderr",
          "text": [
            "<ipython-input-25-525d010f2414>:17: FutureWarning: \n",
            "\n",
            "Passing `palette` without assigning `hue` is deprecated and will be removed in v0.14.0. Assign the `x` variable to `hue` and set `legend=False` for the same effect.\n",
            "\n",
            "  bp = sns.barplot(ax=axis, x=np.array(GOterms_100.index), y=GOterms_100.values, palette=colors_list)\n",
            "<ipython-input-25-525d010f2414>:17: UserWarning: The palette list has more values (3004) than needed (100), which may not be intended.\n",
            "  bp = sns.barplot(ax=axis, x=np.array(GOterms_100.index), y=GOterms_100.values, palette=colors_list)\n",
            "<ipython-input-25-525d010f2414>:18: UserWarning: FixedFormatter should only be used together with FixedLocator\n",
            "  bp.set_xticklabels(bp.get_xticklabels(), rotation=90, size = 6)\n"
          ]
        },
        {
          "output_type": "display_data",
          "data": {
            "text/plain": [
              "<Figure size 1200x600 with 1 Axes>"
            ],
            "image/png": "[encoded data removed]"
          },
          "metadata": {}
        }
      ],
      "source": [
        "# Select first 100 values for plotting\n",
        "GOterms = train_terms['GO_term'].value_counts()\n",
        "GOterms_100 = train_terms['GO_term'].value_counts().iloc[:100]\n",
        "\n",
        "#Calculate percentiles\n",
        "percentiles = np.percentile(GOterms.values, [25, 50, 75, 100])\n",
        "\n",
        "# Define colors for each percentile range\n",
        "colors = sns.color_palette(\"hls\", 5)\n",
        "\n",
        "# Assign colors to bars based on their percentiles\n",
        "percentile_list = np.digitize(GOterms.values, percentiles)\n",
        "colors_list = [colors[i] for i in percentile_list]\n",
        "\n",
        "figure, axis = plt.subplots(1, 1, figsize=(12, 6))\n",
        "\n",
        "bp = sns.barplot(ax=axis, x=np.array(GOterms_100.index), y=GOterms_100.values, palette=colors_list)\n",
        "bp.set_xticklabels(bp.get_xticklabels(), rotation=90, size = 6)\n",
        "axis.set_title('100 Most frequent GO term IDs')\n",
        "bp.set_xlabel(\"GO term IDs\", fontsize = 12)\n",
        "bp.set_ylabel(\"Count\", fontsize = 12)\n",
        "plt.savefig('100 Most frequent GO term IDs')\n",
        "plt.show()"
      ]
    },
    {
      "cell_type": "markdown",
      "source": [
        "As specified in the project, to limit prediction file sizes, one target cannot be associated with more than 1500 terms for MF, BP and CC sub ontologies combined. Thus the first 1500 most frequent `GO_terms` will be extracted and saved into a list."
      ],
      "metadata": {
        "id": "XUOxGbEeTpA0"
      }
    },
    {
      "cell_type": "code",
      "source": [
        "# Calculate the cumulative sum of the counts of the first 100 GO term IDs\n",
        "cumulative_sum = GOterms.values.cumsum()\n",
        "\n",
        "# Calculate the total count of all GO term IDs\n",
        "total_count = cumulative_sum[-1]\n",
        "\n",
        "# Calculate the percentage covered by the first 100 GO term IDs\n",
        "percentage_covered = (cumulative_sum[1499] / total_count) * 100\n",
        "\n",
        "print(f\"The first 1500 GO term IDs cover {percentage_covered:.2f}% of the data.\")\n"
      ],
      "metadata": {
        "colab": {
          "base_uri": "https://localhost:8080/"
        },
        "id": "oTuW-tGRaWgF",
        "outputId": "12f0a11d-c17e-4479-cec3-b75bb88dc295"
      },
      "execution_count": null,
      "outputs": [
        {
          "output_type": "stream",
          "name": "stdout",
          "text": [
            "The first 1500 GO term IDs cover 93.59% of the data.\n"
          ]
        }
      ]
    },
    {
      "cell_type": "code",
      "source": [
        "# Set the limit for label\n",
        "num_labels = 1500\n",
        "\n",
        "# Take value counts in descending order and fetch first 1500 `GO term ID` as labels\n",
        "labels = train_terms['GO_term'].value_counts().index[:num_labels].tolist()"
      ],
      "metadata": {
        "id": "DHkA7scsUWzr"
      },
      "execution_count": null,
      "outputs": []
    },
    {
      "cell_type": "markdown",
      "source": [
        "## Preparing the Dataset\n",
        "As the 3 branches of the Gene Ontology are non-overlapping, we will separate the dataset and train each branch separately."
      ],
      "metadata": {
        "id": "DQafoLYEUX26"
      }
    },
    {
      "cell_type": "code",
      "source": [
        "BP_train_df = pd.read_pickle('/content/bio_data/train_embeddings_BiologicalProcesses.pkl')\n",
        "CC_train_df = pd.read_pickle('/content/bio_data/train_embeddings_CellularComponent.pkl')\n",
        "MF_train_df = pd.read_pickle('/content/bio_data/train_embeddings_MolecularFunction.pkl')"
      ],
      "metadata": {
        "id": "EgQNBoLEFwNF"
      },
      "execution_count": null,
      "outputs": []
    },
    {
      "cell_type": "code",
      "source": [
        "BP_label_df = pd.read_pickle('/content/bio_data/train_labels_BiologicalProcesses.pkl')\n",
        "CC_label_df = pd.read_pickle('/content/bio_data/train_labels_CellularComponent.pkl')\n",
        "MF_label_df = pd.read_pickle('/content/bio_data/train_labels_MolecularFunction.pkl')"
      ],
      "metadata": {
        "id": "LQQzfrFeYosg"
      },
      "execution_count": null,
      "outputs": []
    },
    {
      "cell_type": "markdown",
      "source": [
        "## Loading the best models\n",
        "\n",
        "The best models obtained from testing were the feed forward neural networks. In each case, the best model had 2 dense hidden layers and the relu activation function for each layer\n",
        "\n",
        "For biological processes the F1 score obtained was 0.46873.\n",
        "\n",
        "For molecular function the F1 score obtained was 0.52399.\n",
        "\n",
        "For cellular component thhe F1 score obtained was 0.50483.\n",
        "\n",
        "We will now load these best models and use them on the test set."
      ],
      "metadata": {
        "id": "WXpUhgulbb_2"
      }
    },
    {
      "cell_type": "code",
      "source": [
        "# load models\n",
        "best_BP_model = tf.keras.models.load_model(\n",
        "    '/content/drive/MyDrive/ColabNotebooks/BiologicalData/Final_Project/bio_data/FFNNMod1/best_BP_model'\n",
        ")\n",
        "\n",
        "best_MF_model = tf.keras.models.load_model(\n",
        "    '/content/drive/MyDrive/ColabNotebooks/BiologicalData/Final_Project/bio_data/FFNNMod1/best_MF_model'\n",
        ")\n",
        "\n",
        "best_CC_model = tf.keras.models.load_model(\n",
        "    '/content/drive/MyDrive/ColabNotebooks/BiologicalData/Final_Project/bio_data/FFNNMod2/best_CC_model'\n",
        ")"
      ],
      "metadata": {
        "id": "rXPKFt6ZFOB7"
      },
      "execution_count": null,
      "outputs": []
    },
    {
      "cell_type": "markdown",
      "source": [
        "## Testing the models\n",
        "\n",
        "For testing we use the test embeddings provided in the specification of the project"
      ],
      "metadata": {
        "id": "u64-4aUZLNQV"
      }
    },
    {
      "cell_type": "code",
      "source": [
        "hf_test = h5py.File('/content/biological_data_pfp/test/test_embeddings.h5', 'r')\n",
        "hf_test_dsets = list(hf_test.keys())\n",
        "len(hf_test_dsets)"
      ],
      "metadata": {
        "id": "vUqzr975LIrr"
      },
      "execution_count": null,
      "outputs": []
    },
    {
      "cell_type": "code",
      "source": [
        "loa_test = []\n",
        "for key in hf_test_dsets:\n",
        "  arr = np.array(hf_test[key])\n",
        "  loa_test.append(arr)"
      ],
      "metadata": {
        "id": "r602L5EHLxhF"
      },
      "execution_count": null,
      "outputs": []
    },
    {
      "cell_type": "markdown",
      "source": [
        "After converting to a dataframe, the `test_embed_df` will be composed of 1024 columns and 1000 entries."
      ],
      "metadata": {
        "id": "vEAtufeBMPHk"
      }
    },
    {
      "cell_type": "code",
      "source": [
        "test_embed_df = pd.DataFrame(loa_test)\n",
        "print(test_embed_df.shape)\n",
        "test_embed_df.head()"
      ],
      "metadata": {
        "id": "zRsY6a-2L681"
      },
      "execution_count": null,
      "outputs": []
    },
    {
      "cell_type": "markdown",
      "source": [
        "We will now use the model to make predictions on the test embeddings.\n",
        "These predictions will be a vector with the probability that the particukar protein belongs to a specific GO term (i.e. has a particular function)."
      ],
      "metadata": {
        "id": "4jm9xFcWMjPM"
      }
    },
    {
      "cell_type": "code",
      "source": [
        "BP_predictions =  best_BP_model.predict(test_embed_df)\n",
        "MF_predictions =  best_MF_model.predict(test_embed_df)\n",
        "CC_predictions =  best_CC_model.predict(test_embed_df)"
      ],
      "metadata": {
        "id": "HavPJ7MjMqgb"
      },
      "execution_count": null,
      "outputs": []
    },
    {
      "cell_type": "code",
      "source": [
        "test_protein_ids = np.loadtxt('/content/biological_data_pfp/test/test_ids.txt', dtype = str)\n"
      ],
      "metadata": {
        "id": "hkfhGUJGO21N"
      },
      "execution_count": null,
      "outputs": []
    },
    {
      "cell_type": "markdown",
      "source": [
        "### Prediction probabilities for Biological Processes"
      ],
      "metadata": {
        "id": "adJSz-5zOUAx"
      }
    },
    {
      "cell_type": "code",
      "source": [
        "BP_df_preds = pd.DataFrame(columns = ['Protein Id', 'GO Term Id','Prediction'])\n",
        "\n",
        "lst_Protein_IDs = []\n",
        "for Protein_ID in list(test_protein_ids):\n",
        "    lst_Protein_IDs += [Protein_ID] * BP_predictions.shape[1]\n",
        "\n",
        "BP_df_preds['Protein Id'] = lst_Protein_IDs\n",
        "BP_df_preds['GO Term Id'] = labels * BP_predictions.shape[0]\n",
        "BP_df_preds['Prediction'] = BP_predictions.ravel()\n",
        "BP_df_preds.to_csv(\"BioProcesses_Predictions.tsv\",header=False, index=False, sep=\"\\t\")"
      ],
      "metadata": {
        "id": "Q58x9hwabnXX"
      },
      "execution_count": null,
      "outputs": []
    },
    {
      "cell_type": "markdown",
      "source": [
        "### Prediction probabilities for Molecular Function"
      ],
      "metadata": {
        "id": "ZmxbEKfIVZfn"
      }
    },
    {
      "cell_type": "code",
      "source": [
        "MF_df_preds = pd.DataFrame(columns = ['Protein Id', 'GO Term Id','Prediction'])\n",
        "\n",
        "lst_Protein_IDs = []\n",
        "for Protein_ID in list(test_protein_ids):\n",
        "    lst_Protein_IDs += [Protein_ID] * MF_predictions.shape[1]\n",
        "\n",
        "MF_df_preds['Protein Id'] = lst_Protein_IDs\n",
        "MF_df_preds['GO Term Id'] = labels * MF_predictions.shape[0]\n",
        "MF_df_preds['Prediction'] = MF_predictions.ravel()\n",
        "MF_df_preds.to_csv(\"MolecularFunction_Predictions.tsv\",header=False, index=False, sep=\"\\t\")"
      ],
      "metadata": {
        "id": "r5d_3dfmVZfq"
      },
      "execution_count": null,
      "outputs": []
    },
    {
      "cell_type": "markdown",
      "source": [
        "### Prediction probabilities for Cellular Component"
      ],
      "metadata": {
        "id": "M1zXMy9iVagQ"
      }
    },
    {
      "cell_type": "code",
      "source": [
        "CC_df_preds = pd.DataFrame(columns = ['Protein Id', 'GO Term Id','Prediction'])\n",
        "\n",
        "lst_Protein_IDs = []\n",
        "for Protein_ID in list(test_protein_ids):\n",
        "    lst_Protein_IDs += [Protein_ID] * CC_predictions.shape[1]\n",
        "\n",
        "CC_df_preds['Protein Id'] = lst_Protein_IDs\n",
        "CC_df_preds['GO Term Id'] = labels * CC_predictions.shape[0]\n",
        "CC_df_preds['Prediction'] = CC_predictions.ravel()\n",
        "CC_df_preds.to_csv(\"CellComponent_Predictions.tsv\",header=False, index=False, sep=\"\\t\")"
      ],
      "metadata": {
        "id": "58aDYv-eVagR"
      },
      "execution_count": null,
      "outputs": []
    },
    {
      "cell_type": "markdown",
      "source": [
        "### Visualizing Results of Training"
      ],
      "metadata": {
        "id": "wrPgKXzfpW9p"
      }
    },
    {
      "cell_type": "code",
      "source": [
        "results = {\n",
        "    'Biological Processes': [(0.97700, 0.46873), (0.97634, 0.44645), (0.97550, 0.42391), (0.97595, 0.44951)],\n",
        "    'Molecular Function': [(0.97726, 0.52399), (0.97665, 0.50205), (0.97581, 0.47844), (0.97593, 0.51548)],\n",
        "    'Cellular Component': [(0.98130, 0.50483), (0.98091, 0.48136), (0.97989, 0.45681), (0.98063, 0.50392)]\n",
        "    # note tuples are of the format (Accuracy, F1 score)\n",
        "}\n",
        "\n",
        "results_df = pd.DataFrame(results, index = ['FNN1', 'FNN2', 'FNN3', 'CNN', 'RNN'])\n",
        "results_df"
      ],
      "metadata": {
        "colab": {
          "base_uri": "https://localhost:8080/",
          "height": 175
        },
        "id": "glyxEkObpayU",
        "outputId": "7ce02279-7f9d-4ec7-88fb-5bf241bbf3c3"
      },
      "execution_count": null,
      "outputs": [
        {
          "output_type": "execute_result",
          "data": {
            "text/plain": [
              "      Biological Processes  Molecular Function  Cellular Component\n",
              "MLP     (0.97517, 0.40189)  (0.97522, 0.47861)  (0.97975, 0.44674)\n",
              "FFNN1     (0.977, 0.46873)  (0.97726, 0.52399)   (0.9813, 0.50483)\n",
              "FFNN2   (0.97634, 0.44645)  (0.97665, 0.50205)  (0.98091, 0.48136)\n",
              "CNN     (0.97595, 0.44951)  (0.97593, 0.51548)  (0.98063, 0.50392)"
            ],
            "text/html": [
              "\n",
              "  <div id=\"df-97d5d89b-6e3b-4303-8d5e-00257511590f\" class=\"colab-df-container\">\n",
              "    <div>\n",
              "<style scoped>\n",
              "    .dataframe tbody tr th:only-of-type {\n",
              "        vertical-align: middle;\n",
              "    }\n",
              "\n",
              "    .dataframe tbody tr th {\n",
              "        vertical-align: top;\n",
              "    }\n",
              "\n",
              "    .dataframe thead th {\n",
              "        text-align: right;\n",
              "    }\n",
              "</style>\n",
              "<table border=\"1\" class=\"dataframe\">\n",
              "  <thead>\n",
              "    <tr style=\"text-align: right;\">\n",
              "      <th></th>\n",
              "      <th>Biological Processes</th>\n",
              "      <th>Molecular Function</th>\n",
              "      <th>Cellular Component</th>\n",
              "    </tr>\n",
              "  </thead>\n",
              "  <tbody>\n",
              "    <tr>\n",
              "      <th>MLP</th>\n",
              "      <td>(0.97517, 0.40189)</td>\n",
              "      <td>(0.97522, 0.47861)</td>\n",
              "      <td>(0.97975, 0.44674)</td>\n",
              "    </tr>\n",
              "    <tr>\n",
              "      <th>FFNN1</th>\n",
              "      <td>(0.977, 0.46873)</td>\n",
              "      <td>(0.97726, 0.52399)</td>\n",
              "      <td>(0.9813, 0.50483)</td>\n",
              "    </tr>\n",
              "    <tr>\n",
              "      <th>FFNN2</th>\n",
              "      <td>(0.97634, 0.44645)</td>\n",
              "      <td>(0.97665, 0.50205)</td>\n",
              "      <td>(0.98091, 0.48136)</td>\n",
              "    </tr>\n",
              "    <tr>\n",
              "      <th>CNN</th>\n",
              "      <td>(0.97595, 0.44951)</td>\n",
              "      <td>(0.97593, 0.51548)</td>\n",
              "      <td>(0.98063, 0.50392)</td>\n",
              "    </tr>\n",
              "  </tbody>\n",
              "</table>\n",
              "</div>\n",
              "    <div class=\"colab-df-buttons\">\n",
              "\n",
              "  <div class=\"colab-df-container\">\n",
              "    <button class=\"colab-df-convert\" onclick=\"convertToInteractive('df-97d5d89b-6e3b-4303-8d5e-00257511590f')\"\n",
              "            title=\"Convert this dataframe to an interactive table.\"\n",
              "            style=\"display:none;\">\n",
              "\n",
              "  <svg xmlns=\"http://www.w3.org/2000/svg\" height=\"24px\" viewBox=\"0 -960 960 960\">\n",
              "    <path d=\"M120-120v-720h720v720H120Zm60-500h600v-160H180v160Zm220 220h160v-160H400v160Zm0 220h160v-160H400v160ZM180-400h160v-160H180v160Zm440 0h160v-160H620v160ZM180-180h160v-160H180v160Zm440 0h160v-160H620v160Z\"/>\n",
              "  </svg>\n",
              "    </button>\n",
              "\n",
              "  <style>\n",
              "    .colab-df-container {\n",
              "      display:flex;\n",
              "      gap: 12px;\n",
              "    }\n",
              "\n",
              "    .colab-df-convert {\n",
              "      background-color: #E8F0FE;\n",
              "      border: none;\n",
              "      border-radius: 50%;\n",
              "      cursor: pointer;\n",
              "      display: none;\n",
              "      fill: #1967D2;\n",
              "      height: 32px;\n",
              "      padding: 0 0 0 0;\n",
              "      width: 32px;\n",
              "    }\n",
              "\n",
              "    .colab-df-convert:hover {\n",
              "      background-color: #E2EBFA;\n",
              "      box-shadow: 0px 1px 2px rgba(60, 64, 67, 0.3), 0px 1px 3px 1px rgba(60, 64, 67, 0.15);\n",
              "      fill: #174EA6;\n",
              "    }\n",
              "\n",
              "    .colab-df-buttons div {\n",
              "      margin-bottom: 4px;\n",
              "    }\n",
              "\n",
              "    [theme=dark] .colab-df-convert {\n",
              "      background-color: #3B4455;\n",
              "      fill: #D2E3FC;\n",
              "    }\n",
              "\n",
              "    [theme=dark] .colab-df-convert:hover {\n",
              "      background-color: #434B5C;\n",
              "      box-shadow: 0px 1px 3px 1px rgba(0, 0, 0, 0.15);\n",
              "      filter: drop-shadow(0px 1px 2px rgba(0, 0, 0, 0.3));\n",
              "      fill: #FFFFFF;\n",
              "    }\n",
              "  </style>\n",
              "\n",
              "    <script>\n",
              "      const buttonEl =\n",
              "        document.querySelector('#df-97d5d89b-6e3b-4303-8d5e-00257511590f button.colab-df-convert');\n",
              "      buttonEl.style.display =\n",
              "        google.colab.kernel.accessAllowed ? 'block' : 'none';\n",
              "\n",
              "      async function convertToInteractive(key) {\n",
              "        const element = document.querySelector('#df-97d5d89b-6e3b-4303-8d5e-00257511590f');\n",
              "        const dataTable =\n",
              "          await google.colab.kernel.invokeFunction('convertToInteractive',\n",
              "                                                    [key], {});\n",
              "        if (!dataTable) return;\n",
              "\n",
              "        const docLinkHtml = 'Like what you see? Visit the ' +\n",
              "          '<a target=\"_blank\" href=https://colab.research.google.com/notebooks/data_table.ipynb>data table notebook</a>'\n",
              "          + ' to learn more about interactive tables.';\n",
              "        element.innerHTML = '';\n",
              "        dataTable['output_type'] = 'display_data';\n",
              "        await google.colab.output.renderOutput(dataTable, element);\n",
              "        const docLink = document.createElement('div');\n",
              "        docLink.innerHTML = docLinkHtml;\n",
              "        element.appendChild(docLink);\n",
              "      }\n",
              "    </script>\n",
              "  </div>\n",
              "\n",
              "\n",
              "<div id=\"df-5e56402d-8ad8-4c02-97dd-0b2ac9a9bff3\">\n",
              "  <button class=\"colab-df-quickchart\" onclick=\"quickchart('df-5e56402d-8ad8-4c02-97dd-0b2ac9a9bff3')\"\n",
              "            title=\"Suggest charts\"\n",
              "            style=\"display:none;\">\n",
              "\n",
              "<svg xmlns=\"http://www.w3.org/2000/svg\" height=\"24px\"viewBox=\"0 0 24 24\"\n",
              "     width=\"24px\">\n",
              "    <g>\n",
              "        <path d=\"M19 3H5c-1.1 0-2 .9-2 2v14c0 1.1.9 2 2 2h14c1.1 0 2-.9 2-2V5c0-1.1-.9-2-2-2zM9 17H7v-7h2v7zm4 0h-2V7h2v10zm4 0h-2v-4h2v4z\"/>\n",
              "    </g>\n",
              "</svg>\n",
              "  </button>\n",
              "\n",
              "<style>\n",
              "  .colab-df-quickchart {\n",
              "      --bg-color: #E8F0FE;\n",
              "      --fill-color: #1967D2;\n",
              "      --hover-bg-color: #E2EBFA;\n",
              "      --hover-fill-color: #174EA6;\n",
              "      --disabled-fill-color: #AAA;\n",
              "      --disabled-bg-color: #DDD;\n",
              "  }\n",
              "\n",
              "  [theme=dark] .colab-df-quickchart {\n",
              "      --bg-color: #3B4455;\n",
              "      --fill-color: #D2E3FC;\n",
              "      --hover-bg-color: #434B5C;\n",
              "      --hover-fill-color: #FFFFFF;\n",
              "      --disabled-bg-color: #3B4455;\n",
              "      --disabled-fill-color: #666;\n",
              "  }\n",
              "\n",
              "  .colab-df-quickchart {\n",
              "    background-color: var(--bg-color);\n",
              "    border: none;\n",
              "    border-radius: 50%;\n",
              "    cursor: pointer;\n",
              "    display: none;\n",
              "    fill: var(--fill-color);\n",
              "    height: 32px;\n",
              "    padding: 0;\n",
              "    width: 32px;\n",
              "  }\n",
              "\n",
              "  .colab-df-quickchart:hover {\n",
              "    background-color: var(--hover-bg-color);\n",
              "    box-shadow: 0 1px 2px rgba(60, 64, 67, 0.3), 0 1px 3px 1px rgba(60, 64, 67, 0.15);\n",
              "    fill: var(--button-hover-fill-color);\n",
              "  }\n",
              "\n",
              "  .colab-df-quickchart-complete:disabled,\n",
              "  .colab-df-quickchart-complete:disabled:hover {\n",
              "    background-color: var(--disabled-bg-color);\n",
              "    fill: var(--disabled-fill-color);\n",
              "    box-shadow: none;\n",
              "  }\n",
              "\n",
              "  .colab-df-spinner {\n",
              "    border: 2px solid var(--fill-color);\n",
              "    border-color: transparent;\n",
              "    border-bottom-color: var(--fill-color);\n",
              "    animation:\n",
              "      spin 1s steps(1) infinite;\n",
              "  }\n",
              "\n",
              "  @keyframes spin {\n",
              "    0% {\n",
              "      border-color: transparent;\n",
              "      border-bottom-color: var(--fill-color);\n",
              "      border-left-color: var(--fill-color);\n",
              "    }\n",
              "    20% {\n",
              "      border-color: transparent;\n",
              "      border-left-color: var(--fill-color);\n",
              "      border-top-color: var(--fill-color);\n",
              "    }\n",
              "    30% {\n",
              "      border-color: transparent;\n",
              "      border-left-color: var(--fill-color);\n",
              "      border-top-color: var(--fill-color);\n",
              "      border-right-color: var(--fill-color);\n",
              "    }\n",
              "    40% {\n",
              "      border-color: transparent;\n",
              "      border-right-color: var(--fill-color);\n",
              "      border-top-color: var(--fill-color);\n",
              "    }\n",
              "    60% {\n",
              "      border-color: transparent;\n",
              "      border-right-color: var(--fill-color);\n",
              "    }\n",
              "    80% {\n",
              "      border-color: transparent;\n",
              "      border-right-color: var(--fill-color);\n",
              "      border-bottom-color: var(--fill-color);\n",
              "    }\n",
              "    90% {\n",
              "      border-color: transparent;\n",
              "      border-bottom-color: var(--fill-color);\n",
              "    }\n",
              "  }\n",
              "</style>\n",
              "\n",
              "  <script>\n",
              "    async function quickchart(key) {\n",
              "      const quickchartButtonEl =\n",
              "        document.querySelector('#' + key + ' button');\n",
              "      quickchartButtonEl.disabled = true;  // To prevent multiple clicks.\n",
              "      quickchartButtonEl.classList.add('colab-df-spinner');\n",
              "      try {\n",
              "        const charts = await google.colab.kernel.invokeFunction(\n",
              "            'suggestCharts', [key], {});\n",
              "      } catch (error) {\n",
              "        console.error('Error during call to suggestCharts:', error);\n",
              "      }\n",
              "      quickchartButtonEl.classList.remove('colab-df-spinner');\n",
              "      quickchartButtonEl.classList.add('colab-df-quickchart-complete');\n",
              "    }\n",
              "    (() => {\n",
              "      let quickchartButtonEl =\n",
              "        document.querySelector('#df-5e56402d-8ad8-4c02-97dd-0b2ac9a9bff3 button');\n",
              "      quickchartButtonEl.style.display =\n",
              "        google.colab.kernel.accessAllowed ? 'block' : 'none';\n",
              "    })();\n",
              "  </script>\n",
              "</div>\n",
              "    </div>\n",
              "  </div>\n"
            ],
            "application/vnd.google.colaboratory.intrinsic+json": {
              "type": "dataframe",
              "variable_name": "results_df",
              "summary": "{\n  \"name\": \"results_df\",\n  \"rows\": 4,\n  \"fields\": [\n    {\n      \"column\": \"Biological Processes\",\n      \"properties\": {\n        \"dtype\": \"string\",\n        \"num_unique_values\": 4,\n        \"samples\": [\n          [\n            0.977,\n            0.46873\n          ],\n          [\n            0.97595,\n            0.44951\n          ],\n          [\n            0.97517,\n            0.40189\n          ]\n        ],\n        \"semantic_type\": \"\",\n        \"description\": \"\"\n      }\n    },\n    {\n      \"column\": \"Molecular Function\",\n      \"properties\": {\n        \"dtype\": \"string\",\n        \"num_unique_values\": 4,\n        \"samples\": [\n          [\n            0.97726,\n            0.52399\n          ],\n          [\n            0.97593,\n            0.51548\n          ],\n          [\n            0.97522,\n            0.47861\n          ]\n        ],\n        \"semantic_type\": \"\",\n        \"description\": \"\"\n      }\n    },\n    {\n      \"column\": \"Cellular Component\",\n      \"properties\": {\n        \"dtype\": \"string\",\n        \"num_unique_values\": 4,\n        \"samples\": [\n          [\n            0.9813,\n            0.50483\n          ],\n          [\n            0.98063,\n            0.50392\n          ],\n          [\n            0.97975,\n            0.44674\n          ]\n        ],\n        \"semantic_type\": \"\",\n        \"description\": \"\"\n      }\n    }\n  ]\n}"
            }
          },
          "metadata": {},
          "execution_count": 26
        }
      ]
    },
    {
      "cell_type": "code",
      "source": [
        "import pandas as pd\n",
        "import seaborn as sns\n",
        "import matplotlib.pyplot as plt\n",
        "\n",
        "# Define the DataFrame\n",
        "results = {\n",
        "    'Biological Processes': [(0.97700, 0.46873), (0.97634, 0.44645), (0.97550, 0.42391), (0.97595, 0.44951), (0, 0)],\n",
        "    'Molecular Function': [(0.97726, 0.52399), (0.97665, 0.50205), (0.97581, 0.47844), (0.97593, 0.51548), (0, 0)],\n",
        "    'Cellular Component': [(0.98130, 0.50483), (0.98091, 0.48136), (0.97989, 0.45681), (0.98063, 0.50392), (0, 0)]\n",
        "    # note tuples are of the format (Accuracy, F1 score)\n",
        "}\n",
        "\n",
        "results_df = pd.DataFrame(results, index=['FNN1', 'FNN2', 'FNN3', 'CNN', 'RNN'])\n",
        "\n",
        "# Reshape the DataFrame to long format\n",
        "results_df = results_df.stack().reset_index()\n",
        "results_df.columns = ['Index', 'Category', 'Value']\n",
        "results_df[['Accuracy', 'F1 Score']] = pd.DataFrame(results_df['Value'].tolist(), index=results_df.index)\n",
        "\n",
        "# Map indices to marker styles\n",
        "marker_styles = {'FNN1': 'X', 'FNN2': 's', 'FNN3': 'o', 'CNN': '^', 'RNN': 'P'}\n",
        "\n",
        "# Map categories to colors\n",
        "colors = sns.color_palette(\"hls\", 5)\n",
        "category_colors = {'Biological Processes': 'b', 'Molecular Function': 'g', 'Cellular Component': 'r'}\n",
        "\n",
        "# Plot the scatterplot\n",
        "sns.scatterplot(data=results_df, x='Accuracy', y='F1 Score', hue='Category', style='Index', palette=category_colors,\n",
        "                markers=marker_styles, s=100)\n",
        "\n",
        "plt.xlabel('Accuracy')\n",
        "plt.ylabel('F1 score')\n",
        "plt.title('Accuracy vs. F1 score')\n",
        "\n",
        "plt.legend(bbox_to_anchor=(1.05, 1), loc='upper left')\n",
        "plt.savefig('Accuracy vs F1 Score', bbox_inches='tight')\n",
        "plt.show()"
      ],
      "metadata": {
        "colab": {
          "base_uri": "https://localhost:8080/",
          "height": 393
        },
        "id": "DaetXcmesw78",
        "outputId": "c163603c-dda1-4716-e227-3732b8b88f1d"
      },
      "execution_count": null,
      "outputs": [
        {
          "output_type": "display_data",
          "data": {
            "text/plain": [
              "<Figure size 640x480 with 1 Axes>"
            ],
            "image/png": "[encoded data removed]"
          },
          "metadata": {}
        }
      ]
    },
    {
      "cell_type": "markdown",
      "source": [
        "### Visualizing Different Architectures"
      ],
      "metadata": {
        "id": "sSQ3zeD9pcST"
      }
    },
    {
      "cell_type": "code",
      "source": [
        "!pip install visualkeras"
      ],
      "metadata": {
        "id": "N-5odsUMQXyr"
      },
      "execution_count": null,
      "outputs": []
    },
    {
      "cell_type": "code",
      "source": [
        "!pip install git+https://github.com/paulgavrikov/visualkeras --upgrade"
      ],
      "metadata": {
        "id": "tUzyZFK8X9iB"
      },
      "execution_count": null,
      "outputs": []
    },
    {
      "cell_type": "code",
      "source": [
        "import visualkeras"
      ],
      "metadata": {
        "id": "UrViT6VdV6Ry"
      },
      "execution_count": null,
      "outputs": []
    },
    {
      "cell_type": "code",
      "source": [
        "FFNNmodel1 = tf.keras.models.load_model(\n",
        "    '/content/drive/MyDrive/ColabNotebooks/BiologicalData/Final_Project/bio_data/FFNNMod1/best_BP_model'\n",
        ")\n",
        "\n",
        "visualkeras.layered_view(FFNNmodel1, legend=True, to_file='FFNNmodel1.png').show() # write and show"
      ],
      "metadata": {
        "id": "al1lOBJAVYlW"
      },
      "execution_count": null,
      "outputs": []
    },
    {
      "cell_type": "code",
      "source": [
        "FFNNmodel2 = tf.keras.models.load_model(\n",
        "    '/content/drive/MyDrive/ColabNotebooks/BiologicalData/Final_Project/bio_data/FFNNMod2/best_BP_model'\n",
        ")\n",
        "\n",
        "visualkeras.layered_view(FFNNmodel2, legend=True, to_file='FFNNmodel2.png').show() # write and show"
      ],
      "metadata": {
        "id": "6-DNAXLwWkuq"
      },
      "execution_count": null,
      "outputs": []
    },
    {
      "cell_type": "code",
      "source": [
        "CNNmodel1 = tf.keras.models.load_model(\n",
        "    '/content/drive/MyDrive/ColabNotebooks/BiologicalData/Final_Project/bio_data/CNNMod1/best_BP_model'\n",
        ")\n",
        "\n",
        "visualkeras.layered_view(CNNmodel1, legend=True, to_file='CNNmodel1.png').show() # write and show"
      ],
      "metadata": {
        "id": "7QjQYweGWyvP"
      },
      "execution_count": null,
      "outputs": []
    },
    {
      "cell_type": "code",
      "source": [
        "INPUT_SHAPE = (1024, 1)\n",
        "num_labels = 1500\n",
        "num_filters = 32\n",
        "size_kernel = 64\n",
        "\n",
        "model1 = tf.keras.Sequential([\n",
        "          tf.keras.layers.BatchNormalization(input_shape = INPUT_SHAPE),\n",
        "          tf.keras.layers.Conv1D(filters = num_filters, kernel_size = size_kernel, activation = 'relu'),\n",
        "          tf.keras.layers.MaxPooling1D(pool_size = 2),\n",
        "          tf.keras.layers.Flatten(),\n",
        "          tf.keras.layers.Dense(units = 512, activation = 'relu'),\n",
        "          tf.keras.layers.Dense(units = num_labels, activation = 'sigmoid')\n",
        "          ])"
      ],
      "metadata": {
        "id": "yGHx1q4sbiVG"
      },
      "execution_count": null,
      "outputs": []
    },
    {
      "cell_type": "code",
      "source": [
        "visualkeras.layered_view(model1, to_file='1.png')"
      ],
      "metadata": {
        "id": "XEDdVPLjcJCP"
      },
      "execution_count": null,
      "outputs": []
    },
    {
      "cell_type": "code",
      "source": [
        "CNNmodel1.summary()"
      ],
      "metadata": {
        "id": "I0Rdvka8ZpTm"
      },
      "execution_count": null,
      "outputs": []
    }
  ]
}